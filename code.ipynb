{
 "cells": [
  {
   "cell_type": "code",
   "execution_count": 1,
   "metadata": {},
   "outputs": [
    {
     "name": "stderr",
     "output_type": "stream",
     "text": [
      "C:\\Users\\narve\\Anaconda3\\lib\\site-packages\\statsmodels\\tools\\_testing.py:19: FutureWarning: pandas.util.testing is deprecated. Use the functions in the public API at pandas.testing instead.\n",
      "  import pandas.util.testing as tm\n"
     ]
    }
   ],
   "source": [
    "import os\n",
    "import pandas as pd\n",
    "import numpy as np\n",
    "import seaborn as sns\n",
    "import matplotlib.pyplot as plt"
   ]
  },
  {
   "cell_type": "code",
   "execution_count": 87,
   "metadata": {},
   "outputs": [],
   "source": [
    "sale=pd.read_excel(\"F:/project/tidyquant/sales.xlsx\")"
   ]
  },
  {
   "cell_type": "code",
   "execution_count": 3,
   "metadata": {},
   "outputs": [
    {
     "data": {
      "text/html": [
       "<div>\n",
       "<style scoped>\n",
       "    .dataframe tbody tr th:only-of-type {\n",
       "        vertical-align: middle;\n",
       "    }\n",
       "\n",
       "    .dataframe tbody tr th {\n",
       "        vertical-align: top;\n",
       "    }\n",
       "\n",
       "    .dataframe thead th {\n",
       "        text-align: right;\n",
       "    }\n",
       "</style>\n",
       "<table border=\"1\" class=\"dataframe\">\n",
       "  <thead>\n",
       "    <tr style=\"text-align: right;\">\n",
       "      <th></th>\n",
       "      <th>SKU</th>\n",
       "      <th>LOCATION CODE</th>\n",
       "      <th>BRAND</th>\n",
       "      <th>NET SALES UNITS</th>\n",
       "      <th>UNIT PRICE</th>\n",
       "      <th>INVOICED AMOUNT</th>\n",
       "      <th>LINE_UP</th>\n",
       "      <th>CATEGORY</th>\n",
       "      <th>GENDER</th>\n",
       "      <th>CASE MATERIAL</th>\n",
       "      <th>CASE COLOR</th>\n",
       "      <th>CASE SHAPE</th>\n",
       "      <th>DIAL TYPE</th>\n",
       "      <th>DIAL COLOR</th>\n",
       "      <th>STRAP TYPE</th>\n",
       "      <th>STRAP COLOR</th>\n",
       "      <th>ITEM DISC</th>\n",
       "    </tr>\n",
       "  </thead>\n",
       "  <tbody>\n",
       "    <tr>\n",
       "      <th>0</th>\n",
       "      <td>PPL.15302JSB/07M</td>\n",
       "      <td>Loc 2</td>\n",
       "      <td>Brand B</td>\n",
       "      <td>1</td>\n",
       "      <td>8190</td>\n",
       "      <td>6552.00</td>\n",
       "      <td>CARRYOVER</td>\n",
       "      <td>ICONIC</td>\n",
       "      <td>MALE</td>\n",
       "      <td>SS</td>\n",
       "      <td>SLV</td>\n",
       "      <td>ROUND</td>\n",
       "      <td>ANALOG</td>\n",
       "      <td>BRW</td>\n",
       "      <td>SS</td>\n",
       "      <td>SLV</td>\n",
       "      <td>0.0</td>\n",
       "    </tr>\n",
       "    <tr>\n",
       "      <th>1</th>\n",
       "      <td>PPL.14378JSR/12P</td>\n",
       "      <td>Loc 9</td>\n",
       "      <td>Brand B</td>\n",
       "      <td>1</td>\n",
       "      <td>7490</td>\n",
       "      <td>5243.00</td>\n",
       "      <td>CARRYOVER</td>\n",
       "      <td>ICONIC</td>\n",
       "      <td>MALE</td>\n",
       "      <td>SS</td>\n",
       "      <td>RGD</td>\n",
       "      <td>ROUND</td>\n",
       "      <td>ANALOG</td>\n",
       "      <td>BRW</td>\n",
       "      <td>RUBBER</td>\n",
       "      <td>BRW</td>\n",
       "      <td>0.0</td>\n",
       "    </tr>\n",
       "    <tr>\n",
       "      <th>2</th>\n",
       "      <td>PPL.15366JS/03M</td>\n",
       "      <td>Loc 18</td>\n",
       "      <td>Brand B</td>\n",
       "      <td>1</td>\n",
       "      <td>7290</td>\n",
       "      <td>4257.36</td>\n",
       "      <td>CARRYOVER</td>\n",
       "      <td>ICONIC</td>\n",
       "      <td>MALE</td>\n",
       "      <td>SS</td>\n",
       "      <td>SLV</td>\n",
       "      <td>ROUND</td>\n",
       "      <td>ANALOG</td>\n",
       "      <td>BLU</td>\n",
       "      <td>SS</td>\n",
       "      <td>SLV</td>\n",
       "      <td>0.0</td>\n",
       "    </tr>\n",
       "    <tr>\n",
       "      <th>3</th>\n",
       "      <td>PPL.15001JSB/02MA</td>\n",
       "      <td>Loc 9</td>\n",
       "      <td>Brand B</td>\n",
       "      <td>1</td>\n",
       "      <td>7590</td>\n",
       "      <td>5313.00</td>\n",
       "      <td>CARRYOVER</td>\n",
       "      <td>ICONIC</td>\n",
       "      <td>MALE</td>\n",
       "      <td>SS</td>\n",
       "      <td>BLK</td>\n",
       "      <td>ROUND</td>\n",
       "      <td>ANALOG</td>\n",
       "      <td>BLK</td>\n",
       "      <td>SS</td>\n",
       "      <td>BLK</td>\n",
       "      <td>0.0</td>\n",
       "    </tr>\n",
       "    <tr>\n",
       "      <th>4</th>\n",
       "      <td>PPL.14834JSB/03M</td>\n",
       "      <td>Loc 9</td>\n",
       "      <td>Brand B</td>\n",
       "      <td>1</td>\n",
       "      <td>10990</td>\n",
       "      <td>7693.00</td>\n",
       "      <td>DROPPED</td>\n",
       "      <td>ICONIC</td>\n",
       "      <td>MALE</td>\n",
       "      <td>SS</td>\n",
       "      <td>BLK</td>\n",
       "      <td>ROUND</td>\n",
       "      <td>ANALOG</td>\n",
       "      <td>BLU</td>\n",
       "      <td>SS</td>\n",
       "      <td>BLK</td>\n",
       "      <td>0.0</td>\n",
       "    </tr>\n",
       "    <tr>\n",
       "      <th>...</th>\n",
       "      <td>...</td>\n",
       "      <td>...</td>\n",
       "      <td>...</td>\n",
       "      <td>...</td>\n",
       "      <td>...</td>\n",
       "      <td>...</td>\n",
       "      <td>...</td>\n",
       "      <td>...</td>\n",
       "      <td>...</td>\n",
       "      <td>...</td>\n",
       "      <td>...</td>\n",
       "      <td>...</td>\n",
       "      <td>...</td>\n",
       "      <td>...</td>\n",
       "      <td>...</td>\n",
       "      <td>...</td>\n",
       "      <td>...</td>\n",
       "    </tr>\n",
       "    <tr>\n",
       "      <th>14259</th>\n",
       "      <td>TW2R23900</td>\n",
       "      <td>Loc 18</td>\n",
       "      <td>Brand C</td>\n",
       "      <td>1</td>\n",
       "      <td>4490</td>\n",
       "      <td>2914.75</td>\n",
       "      <td>CARRYOVER</td>\n",
       "      <td>CEBU</td>\n",
       "      <td>FEMALE</td>\n",
       "      <td>BRASS</td>\n",
       "      <td>2T GLD SLV</td>\n",
       "      <td>ROUND</td>\n",
       "      <td>ANALOG</td>\n",
       "      <td>WHT</td>\n",
       "      <td>SS</td>\n",
       "      <td>2T GLD SLV</td>\n",
       "      <td>0.0</td>\n",
       "    </tr>\n",
       "    <tr>\n",
       "      <th>14260</th>\n",
       "      <td>TW4B08200</td>\n",
       "      <td>Loc 18</td>\n",
       "      <td>Brand C</td>\n",
       "      <td>1</td>\n",
       "      <td>3790</td>\n",
       "      <td>2460.33</td>\n",
       "      <td>CARRYOVER</td>\n",
       "      <td>CEBU</td>\n",
       "      <td>MALE</td>\n",
       "      <td>RESIN</td>\n",
       "      <td>BLK</td>\n",
       "      <td>ROUND</td>\n",
       "      <td>ANALOG</td>\n",
       "      <td>WHT</td>\n",
       "      <td>FABRIC</td>\n",
       "      <td>BRW</td>\n",
       "      <td>0.0</td>\n",
       "    </tr>\n",
       "    <tr>\n",
       "      <th>14261</th>\n",
       "      <td>TW5M14500</td>\n",
       "      <td>Loc 18</td>\n",
       "      <td>Brand C</td>\n",
       "      <td>1</td>\n",
       "      <td>4190</td>\n",
       "      <td>2719.99</td>\n",
       "      <td>CARRYOVER</td>\n",
       "      <td>CEBU</td>\n",
       "      <td>UNISEX</td>\n",
       "      <td>RESIN</td>\n",
       "      <td>BLK</td>\n",
       "      <td>ROUND</td>\n",
       "      <td>DIGITAL</td>\n",
       "      <td>NORMAL</td>\n",
       "      <td>RUBBER</td>\n",
       "      <td>GRY</td>\n",
       "      <td>0.0</td>\n",
       "    </tr>\n",
       "    <tr>\n",
       "      <th>14262</th>\n",
       "      <td>TWEG1538E</td>\n",
       "      <td>Loc 18</td>\n",
       "      <td>Brand C</td>\n",
       "      <td>1</td>\n",
       "      <td>3990</td>\n",
       "      <td>2590.16</td>\n",
       "      <td>CARRYOVER</td>\n",
       "      <td>INDIA</td>\n",
       "      <td>MALE</td>\n",
       "      <td>BRASS</td>\n",
       "      <td>GLD</td>\n",
       "      <td>ROUND</td>\n",
       "      <td>ANALOG</td>\n",
       "      <td>BRW</td>\n",
       "      <td>SS</td>\n",
       "      <td>2T GLD SLV</td>\n",
       "      <td>0.0</td>\n",
       "    </tr>\n",
       "    <tr>\n",
       "      <th>14263</th>\n",
       "      <td>TW2P93700</td>\n",
       "      <td>Loc 4</td>\n",
       "      <td>Brand C</td>\n",
       "      <td>1</td>\n",
       "      <td>7490</td>\n",
       "      <td>5386.11</td>\n",
       "      <td>DROPPED</td>\n",
       "      <td>OPMHYB</td>\n",
       "      <td>FEMALE</td>\n",
       "      <td>ALLOY</td>\n",
       "      <td>GLD</td>\n",
       "      <td>ROUND</td>\n",
       "      <td>ANALOG</td>\n",
       "      <td>SLV</td>\n",
       "      <td>SS</td>\n",
       "      <td>GLD</td>\n",
       "      <td>0.0</td>\n",
       "    </tr>\n",
       "  </tbody>\n",
       "</table>\n",
       "<p>14264 rows × 17 columns</p>\n",
       "</div>"
      ],
      "text/plain": [
       "                     SKU LOCATION CODE    BRAND  NET SALES UNITS  UNIT PRICE  \\\n",
       "0       PPL.15302JSB/07M         Loc 2  Brand B                1        8190   \n",
       "1       PPL.14378JSR/12P         Loc 9  Brand B                1        7490   \n",
       "2        PPL.15366JS/03M        Loc 18  Brand B                1        7290   \n",
       "3      PPL.15001JSB/02MA         Loc 9  Brand B                1        7590   \n",
       "4       PPL.14834JSB/03M         Loc 9  Brand B                1       10990   \n",
       "...                  ...           ...      ...              ...         ...   \n",
       "14259          TW2R23900        Loc 18  Brand C                1        4490   \n",
       "14260          TW4B08200        Loc 18  Brand C                1        3790   \n",
       "14261          TW5M14500        Loc 18  Brand C                1        4190   \n",
       "14262          TWEG1538E        Loc 18  Brand C                1        3990   \n",
       "14263          TW2P93700         Loc 4  Brand C                1        7490   \n",
       "\n",
       "       INVOICED AMOUNT     LINE_UP CATEGORY  GENDER CASE MATERIAL  CASE COLOR  \\\n",
       "0               6552.00  CARRYOVER   ICONIC    MALE            SS         SLV   \n",
       "1               5243.00  CARRYOVER   ICONIC    MALE            SS         RGD   \n",
       "2               4257.36  CARRYOVER   ICONIC    MALE            SS         SLV   \n",
       "3               5313.00  CARRYOVER   ICONIC    MALE            SS         BLK   \n",
       "4               7693.00    DROPPED   ICONIC    MALE            SS         BLK   \n",
       "...                 ...        ...      ...     ...           ...         ...   \n",
       "14259           2914.75  CARRYOVER     CEBU  FEMALE         BRASS  2T GLD SLV   \n",
       "14260           2460.33  CARRYOVER     CEBU    MALE         RESIN         BLK   \n",
       "14261           2719.99  CARRYOVER     CEBU  UNISEX         RESIN         BLK   \n",
       "14262           2590.16  CARRYOVER    INDIA    MALE         BRASS         GLD   \n",
       "14263           5386.11    DROPPED   OPMHYB  FEMALE         ALLOY         GLD   \n",
       "\n",
       "      CASE SHAPE DIAL TYPE DIAL COLOR STRAP TYPE STRAP COLOR  ITEM DISC  \n",
       "0          ROUND    ANALOG        BRW         SS         SLV        0.0  \n",
       "1          ROUND    ANALOG        BRW     RUBBER         BRW        0.0  \n",
       "2          ROUND    ANALOG        BLU         SS         SLV        0.0  \n",
       "3          ROUND    ANALOG        BLK         SS         BLK        0.0  \n",
       "4          ROUND    ANALOG        BLU         SS         BLK        0.0  \n",
       "...          ...       ...        ...        ...         ...        ...  \n",
       "14259      ROUND    ANALOG        WHT         SS  2T GLD SLV        0.0  \n",
       "14260      ROUND    ANALOG        WHT     FABRIC         BRW        0.0  \n",
       "14261      ROUND   DIGITAL     NORMAL     RUBBER         GRY        0.0  \n",
       "14262      ROUND    ANALOG        BRW         SS  2T GLD SLV        0.0  \n",
       "14263      ROUND    ANALOG        SLV         SS         GLD        0.0  \n",
       "\n",
       "[14264 rows x 17 columns]"
      ]
     },
     "execution_count": 3,
     "metadata": {},
     "output_type": "execute_result"
    }
   ],
   "source": [
    "sale"
   ]
  },
  {
   "cell_type": "code",
   "execution_count": 4,
   "metadata": {},
   "outputs": [
    {
     "name": "stdout",
     "output_type": "stream",
     "text": [
      "<class 'pandas.core.frame.DataFrame'>\n",
      "RangeIndex: 14264 entries, 0 to 14263\n",
      "Data columns (total 17 columns):\n",
      " #   Column            Non-Null Count  Dtype  \n",
      "---  ------            --------------  -----  \n",
      " 0   SKU               14264 non-null  object \n",
      " 1   LOCATION CODE     14264 non-null  object \n",
      " 2   BRAND             14264 non-null  object \n",
      " 3   NET SALES UNITS   14264 non-null  int64  \n",
      " 4   UNIT PRICE        14264 non-null  int64  \n",
      " 5   INVOICED AMOUNT   14264 non-null  float64\n",
      " 6   LINE_UP           14264 non-null  object \n",
      " 7   CATEGORY          14264 non-null  object \n",
      " 8   GENDER            14264 non-null  object \n",
      " 9   CASE MATERIAL     14264 non-null  object \n",
      " 10  CASE COLOR        14264 non-null  object \n",
      " 11  CASE SHAPE        14264 non-null  object \n",
      " 12  DIAL TYPE         14264 non-null  object \n",
      " 13  DIAL COLOR        14264 non-null  object \n",
      " 14  STRAP TYPE        14264 non-null  object \n",
      " 15  STRAP COLOR       14264 non-null  object \n",
      " 16  ITEM DISC         14264 non-null  float64\n",
      "dtypes: float64(2), int64(2), object(13)\n",
      "memory usage: 1.9+ MB\n"
     ]
    }
   ],
   "source": [
    "sale.info()"
   ]
  },
  {
   "cell_type": "markdown",
   "metadata": {},
   "source": [
    "# EDA-"
   ]
  },
  {
   "cell_type": "code",
   "execution_count": 5,
   "metadata": {},
   "outputs": [],
   "source": [
    "sale['SKU']=sale['SKU'].astype('category')\n",
    "sale['LOCATION CODE']=sale['LOCATION CODE'].astype('category')\n",
    "sale['BRAND']=sale['BRAND'].astype('category')\n",
    "sale['LINE_UP']=sale['LINE_UP'].astype('category')\n",
    "sale['CATEGORY']=sale['CATEGORY'].astype('category')\n",
    "sale['GENDER']=sale['GENDER'].astype('category')\n",
    "sale['CASE MATERIAL']=sale['CASE MATERIAL'].astype('category')\n",
    "sale['CASE COLOR']=sale['CASE COLOR'].astype('category')\n",
    "sale['CASE SHAPE']=sale['CASE SHAPE'].astype('category')\n",
    "sale['DIAL TYPE']=sale['DIAL TYPE'].astype('category')\n",
    "sale['DIAL COLOR']=sale['DIAL COLOR'].astype('category')\n",
    "sale['STRAP TYPE']=sale['STRAP TYPE'].astype('category')\n",
    "sale['STRAP COLOR']=sale['STRAP COLOR'].astype('category')"
   ]
  },
  {
   "cell_type": "code",
   "execution_count": 6,
   "metadata": {},
   "outputs": [
    {
     "name": "stdout",
     "output_type": "stream",
     "text": [
      "<class 'pandas.core.frame.DataFrame'>\n",
      "RangeIndex: 14264 entries, 0 to 14263\n",
      "Data columns (total 17 columns):\n",
      " #   Column            Non-Null Count  Dtype   \n",
      "---  ------            --------------  -----   \n",
      " 0   SKU               14264 non-null  category\n",
      " 1   LOCATION CODE     14264 non-null  category\n",
      " 2   BRAND             14264 non-null  category\n",
      " 3   NET SALES UNITS   14264 non-null  int64   \n",
      " 4   UNIT PRICE        14264 non-null  int64   \n",
      " 5   INVOICED AMOUNT   14264 non-null  float64 \n",
      " 6   LINE_UP           14264 non-null  category\n",
      " 7   CATEGORY          14264 non-null  category\n",
      " 8   GENDER            14264 non-null  category\n",
      " 9   CASE MATERIAL     14264 non-null  category\n",
      " 10  CASE COLOR        14264 non-null  category\n",
      " 11  CASE SHAPE        14264 non-null  category\n",
      " 12  DIAL TYPE         14264 non-null  category\n",
      " 13  DIAL COLOR        14264 non-null  category\n",
      " 14  STRAP TYPE        14264 non-null  category\n",
      " 15  STRAP COLOR       14264 non-null  category\n",
      " 16  ITEM DISC         14264 non-null  float64 \n",
      "dtypes: category(13), float64(2), int64(2)\n",
      "memory usage: 695.1 KB\n"
     ]
    }
   ],
   "source": [
    "sale.info()"
   ]
  },
  {
   "cell_type": "code",
   "execution_count": 7,
   "metadata": {},
   "outputs": [
    {
     "data": {
      "text/html": [
       "<div>\n",
       "<style scoped>\n",
       "    .dataframe tbody tr th:only-of-type {\n",
       "        vertical-align: middle;\n",
       "    }\n",
       "\n",
       "    .dataframe tbody tr th {\n",
       "        vertical-align: top;\n",
       "    }\n",
       "\n",
       "    .dataframe thead th {\n",
       "        text-align: right;\n",
       "    }\n",
       "</style>\n",
       "<table border=\"1\" class=\"dataframe\">\n",
       "  <thead>\n",
       "    <tr style=\"text-align: right;\">\n",
       "      <th></th>\n",
       "      <th>SKU</th>\n",
       "      <th>LOCATION CODE</th>\n",
       "      <th>BRAND</th>\n",
       "      <th>NET SALES UNITS</th>\n",
       "      <th>UNIT PRICE</th>\n",
       "      <th>INVOICED AMOUNT</th>\n",
       "      <th>LINE_UP</th>\n",
       "      <th>CATEGORY</th>\n",
       "      <th>GENDER</th>\n",
       "      <th>CASE MATERIAL</th>\n",
       "      <th>CASE COLOR</th>\n",
       "      <th>CASE SHAPE</th>\n",
       "      <th>DIAL TYPE</th>\n",
       "      <th>DIAL COLOR</th>\n",
       "      <th>STRAP TYPE</th>\n",
       "      <th>STRAP COLOR</th>\n",
       "      <th>ITEM DISC</th>\n",
       "    </tr>\n",
       "  </thead>\n",
       "  <tbody>\n",
       "    <tr>\n",
       "      <th>count</th>\n",
       "      <td>14264</td>\n",
       "      <td>14264</td>\n",
       "      <td>14264</td>\n",
       "      <td>14264.000000</td>\n",
       "      <td>14264.000000</td>\n",
       "      <td>14264.000000</td>\n",
       "      <td>14264</td>\n",
       "      <td>14264</td>\n",
       "      <td>14264</td>\n",
       "      <td>14264</td>\n",
       "      <td>14264</td>\n",
       "      <td>14264</td>\n",
       "      <td>14264</td>\n",
       "      <td>14264</td>\n",
       "      <td>14264</td>\n",
       "      <td>14264</td>\n",
       "      <td>14264.000000</td>\n",
       "    </tr>\n",
       "    <tr>\n",
       "      <th>unique</th>\n",
       "      <td>1179</td>\n",
       "      <td>14</td>\n",
       "      <td>3</td>\n",
       "      <td>NaN</td>\n",
       "      <td>NaN</td>\n",
       "      <td>NaN</td>\n",
       "      <td>6</td>\n",
       "      <td>11</td>\n",
       "      <td>4</td>\n",
       "      <td>6</td>\n",
       "      <td>18</td>\n",
       "      <td>7</td>\n",
       "      <td>3</td>\n",
       "      <td>16</td>\n",
       "      <td>8</td>\n",
       "      <td>18</td>\n",
       "      <td>NaN</td>\n",
       "    </tr>\n",
       "    <tr>\n",
       "      <th>top</th>\n",
       "      <td>TW00B303E</td>\n",
       "      <td>Loc 18</td>\n",
       "      <td>Brand C</td>\n",
       "      <td>NaN</td>\n",
       "      <td>NaN</td>\n",
       "      <td>NaN</td>\n",
       "      <td>SPECIALS</td>\n",
       "      <td>INDIA</td>\n",
       "      <td>MALE</td>\n",
       "      <td>BRASS</td>\n",
       "      <td>GLD</td>\n",
       "      <td>ROUND</td>\n",
       "      <td>ANALOG</td>\n",
       "      <td>WHT</td>\n",
       "      <td>SS</td>\n",
       "      <td>GLD</td>\n",
       "      <td>NaN</td>\n",
       "    </tr>\n",
       "    <tr>\n",
       "      <th>freq</th>\n",
       "      <td>378</td>\n",
       "      <td>2347</td>\n",
       "      <td>12169</td>\n",
       "      <td>NaN</td>\n",
       "      <td>NaN</td>\n",
       "      <td>NaN</td>\n",
       "      <td>7190</td>\n",
       "      <td>5638</td>\n",
       "      <td>6742</td>\n",
       "      <td>9068</td>\n",
       "      <td>5340</td>\n",
       "      <td>13407</td>\n",
       "      <td>11644</td>\n",
       "      <td>3647</td>\n",
       "      <td>7464</td>\n",
       "      <td>3365</td>\n",
       "      <td>NaN</td>\n",
       "    </tr>\n",
       "    <tr>\n",
       "      <th>mean</th>\n",
       "      <td>NaN</td>\n",
       "      <td>NaN</td>\n",
       "      <td>NaN</td>\n",
       "      <td>1.087072</td>\n",
       "      <td>3107.363432</td>\n",
       "      <td>2612.456201</td>\n",
       "      <td>NaN</td>\n",
       "      <td>NaN</td>\n",
       "      <td>NaN</td>\n",
       "      <td>NaN</td>\n",
       "      <td>NaN</td>\n",
       "      <td>NaN</td>\n",
       "      <td>NaN</td>\n",
       "      <td>NaN</td>\n",
       "      <td>NaN</td>\n",
       "      <td>NaN</td>\n",
       "      <td>0.270436</td>\n",
       "    </tr>\n",
       "    <tr>\n",
       "      <th>std</th>\n",
       "      <td>NaN</td>\n",
       "      <td>NaN</td>\n",
       "      <td>NaN</td>\n",
       "      <td>0.895816</td>\n",
       "      <td>1665.584357</td>\n",
       "      <td>1894.822630</td>\n",
       "      <td>NaN</td>\n",
       "      <td>NaN</td>\n",
       "      <td>NaN</td>\n",
       "      <td>NaN</td>\n",
       "      <td>NaN</td>\n",
       "      <td>NaN</td>\n",
       "      <td>NaN</td>\n",
       "      <td>NaN</td>\n",
       "      <td>NaN</td>\n",
       "      <td>NaN</td>\n",
       "      <td>0.242828</td>\n",
       "    </tr>\n",
       "    <tr>\n",
       "      <th>min</th>\n",
       "      <td>NaN</td>\n",
       "      <td>NaN</td>\n",
       "      <td>NaN</td>\n",
       "      <td>1.000000</td>\n",
       "      <td>590.000000</td>\n",
       "      <td>469.590000</td>\n",
       "      <td>NaN</td>\n",
       "      <td>NaN</td>\n",
       "      <td>NaN</td>\n",
       "      <td>NaN</td>\n",
       "      <td>NaN</td>\n",
       "      <td>NaN</td>\n",
       "      <td>NaN</td>\n",
       "      <td>NaN</td>\n",
       "      <td>NaN</td>\n",
       "      <td>NaN</td>\n",
       "      <td>0.000000</td>\n",
       "    </tr>\n",
       "    <tr>\n",
       "      <th>25%</th>\n",
       "      <td>NaN</td>\n",
       "      <td>NaN</td>\n",
       "      <td>NaN</td>\n",
       "      <td>1.000000</td>\n",
       "      <td>1990.000000</td>\n",
       "      <td>1605.000000</td>\n",
       "      <td>NaN</td>\n",
       "      <td>NaN</td>\n",
       "      <td>NaN</td>\n",
       "      <td>NaN</td>\n",
       "      <td>NaN</td>\n",
       "      <td>NaN</td>\n",
       "      <td>NaN</td>\n",
       "      <td>NaN</td>\n",
       "      <td>NaN</td>\n",
       "      <td>NaN</td>\n",
       "      <td>0.000000</td>\n",
       "    </tr>\n",
       "    <tr>\n",
       "      <th>50%</th>\n",
       "      <td>NaN</td>\n",
       "      <td>NaN</td>\n",
       "      <td>NaN</td>\n",
       "      <td>1.000000</td>\n",
       "      <td>2790.000000</td>\n",
       "      <td>2259.900000</td>\n",
       "      <td>NaN</td>\n",
       "      <td>NaN</td>\n",
       "      <td>NaN</td>\n",
       "      <td>NaN</td>\n",
       "      <td>NaN</td>\n",
       "      <td>NaN</td>\n",
       "      <td>NaN</td>\n",
       "      <td>NaN</td>\n",
       "      <td>NaN</td>\n",
       "      <td>NaN</td>\n",
       "      <td>0.300000</td>\n",
       "    </tr>\n",
       "    <tr>\n",
       "      <th>75%</th>\n",
       "      <td>NaN</td>\n",
       "      <td>NaN</td>\n",
       "      <td>NaN</td>\n",
       "      <td>1.000000</td>\n",
       "      <td>3890.000000</td>\n",
       "      <td>3217.500000</td>\n",
       "      <td>NaN</td>\n",
       "      <td>NaN</td>\n",
       "      <td>NaN</td>\n",
       "      <td>NaN</td>\n",
       "      <td>NaN</td>\n",
       "      <td>NaN</td>\n",
       "      <td>NaN</td>\n",
       "      <td>NaN</td>\n",
       "      <td>NaN</td>\n",
       "      <td>NaN</td>\n",
       "      <td>0.500000</td>\n",
       "    </tr>\n",
       "    <tr>\n",
       "      <th>max</th>\n",
       "      <td>NaN</td>\n",
       "      <td>NaN</td>\n",
       "      <td>NaN</td>\n",
       "      <td>71.000000</td>\n",
       "      <td>14990.000000</td>\n",
       "      <td>112890.000000</td>\n",
       "      <td>NaN</td>\n",
       "      <td>NaN</td>\n",
       "      <td>NaN</td>\n",
       "      <td>NaN</td>\n",
       "      <td>NaN</td>\n",
       "      <td>NaN</td>\n",
       "      <td>NaN</td>\n",
       "      <td>NaN</td>\n",
       "      <td>NaN</td>\n",
       "      <td>NaN</td>\n",
       "      <td>0.700000</td>\n",
       "    </tr>\n",
       "  </tbody>\n",
       "</table>\n",
       "</div>"
      ],
      "text/plain": [
       "              SKU LOCATION CODE    BRAND  NET SALES UNITS    UNIT PRICE  \\\n",
       "count       14264         14264    14264     14264.000000  14264.000000   \n",
       "unique       1179            14        3              NaN           NaN   \n",
       "top     TW00B303E        Loc 18  Brand C              NaN           NaN   \n",
       "freq          378          2347    12169              NaN           NaN   \n",
       "mean          NaN           NaN      NaN         1.087072   3107.363432   \n",
       "std           NaN           NaN      NaN         0.895816   1665.584357   \n",
       "min           NaN           NaN      NaN         1.000000    590.000000   \n",
       "25%           NaN           NaN      NaN         1.000000   1990.000000   \n",
       "50%           NaN           NaN      NaN         1.000000   2790.000000   \n",
       "75%           NaN           NaN      NaN         1.000000   3890.000000   \n",
       "max           NaN           NaN      NaN        71.000000  14990.000000   \n",
       "\n",
       "        INVOICED AMOUNT    LINE_UP CATEGORY GENDER CASE MATERIAL CASE COLOR  \\\n",
       "count       14264.000000     14264    14264  14264         14264      14264   \n",
       "unique               NaN         6       11      4             6         18   \n",
       "top                  NaN  SPECIALS    INDIA   MALE         BRASS        GLD   \n",
       "freq                 NaN      7190     5638   6742          9068       5340   \n",
       "mean         2612.456201       NaN      NaN    NaN           NaN        NaN   \n",
       "std          1894.822630       NaN      NaN    NaN           NaN        NaN   \n",
       "min           469.590000       NaN      NaN    NaN           NaN        NaN   \n",
       "25%          1605.000000       NaN      NaN    NaN           NaN        NaN   \n",
       "50%          2259.900000       NaN      NaN    NaN           NaN        NaN   \n",
       "75%          3217.500000       NaN      NaN    NaN           NaN        NaN   \n",
       "max        112890.000000       NaN      NaN    NaN           NaN        NaN   \n",
       "\n",
       "       CASE SHAPE DIAL TYPE DIAL COLOR STRAP TYPE STRAP COLOR     ITEM DISC  \n",
       "count       14264     14264      14264      14264       14264  14264.000000  \n",
       "unique          7         3         16          8          18           NaN  \n",
       "top         ROUND    ANALOG        WHT         SS         GLD           NaN  \n",
       "freq        13407     11644       3647       7464        3365           NaN  \n",
       "mean          NaN       NaN        NaN        NaN         NaN      0.270436  \n",
       "std           NaN       NaN        NaN        NaN         NaN      0.242828  \n",
       "min           NaN       NaN        NaN        NaN         NaN      0.000000  \n",
       "25%           NaN       NaN        NaN        NaN         NaN      0.000000  \n",
       "50%           NaN       NaN        NaN        NaN         NaN      0.300000  \n",
       "75%           NaN       NaN        NaN        NaN         NaN      0.500000  \n",
       "max           NaN       NaN        NaN        NaN         NaN      0.700000  "
      ]
     },
     "execution_count": 7,
     "metadata": {},
     "output_type": "execute_result"
    }
   ],
   "source": [
    "sale.describe(include='all')"
   ]
  },
  {
   "cell_type": "code",
   "execution_count": 8,
   "metadata": {},
   "outputs": [
    {
     "data": {
      "text/plain": [
       "SKU                 0\n",
       "LOCATION CODE       0\n",
       "BRAND               0\n",
       "NET SALES UNITS     0\n",
       "UNIT PRICE          0\n",
       "INVOICED AMOUNT     0\n",
       "LINE_UP             0\n",
       "CATEGORY            0\n",
       "GENDER              0\n",
       "CASE MATERIAL       0\n",
       "CASE COLOR          0\n",
       "CASE SHAPE          0\n",
       "DIAL TYPE           0\n",
       "DIAL COLOR          0\n",
       "STRAP TYPE          0\n",
       "STRAP COLOR         0\n",
       "ITEM DISC           0\n",
       "dtype: int64"
      ]
     },
     "execution_count": 8,
     "metadata": {},
     "output_type": "execute_result"
    }
   ],
   "source": [
    "sale.isnull().sum()"
   ]
  },
  {
   "cell_type": "code",
   "execution_count": 9,
   "metadata": {},
   "outputs": [],
   "source": [
    "df_num = sale.select_dtypes(include = ['float64', 'int64'])"
   ]
  },
  {
   "cell_type": "markdown",
   "metadata": {},
   "source": [
    "# Correlation Plot"
   ]
  },
  {
   "cell_type": "code",
   "execution_count": 10,
   "metadata": {},
   "outputs": [
    {
     "data": {
      "text/html": [
       "<style  type=\"text/css\" >\n",
       "    #T_b8bf1522_94fb_11ea_8c98_f8a2d6221d70row0_col0 {\n",
       "            background-color:  #b40426;\n",
       "            color:  #f1f1f1;\n",
       "        }    #T_b8bf1522_94fb_11ea_8c98_f8a2d6221d70row0_col1 {\n",
       "            background-color:  #b7cff9;\n",
       "            color:  #000000;\n",
       "        }    #T_b8bf1522_94fb_11ea_8c98_f8a2d6221d70row0_col2 {\n",
       "            background-color:  #f39475;\n",
       "            color:  #000000;\n",
       "        }    #T_b8bf1522_94fb_11ea_8c98_f8a2d6221d70row0_col3 {\n",
       "            background-color:  #c9d7f0;\n",
       "            color:  #000000;\n",
       "        }    #T_b8bf1522_94fb_11ea_8c98_f8a2d6221d70row1_col0 {\n",
       "            background-color:  #3b4cc0;\n",
       "            color:  #f1f1f1;\n",
       "        }    #T_b8bf1522_94fb_11ea_8c98_f8a2d6221d70row1_col1 {\n",
       "            background-color:  #b40426;\n",
       "            color:  #f1f1f1;\n",
       "        }    #T_b8bf1522_94fb_11ea_8c98_f8a2d6221d70row1_col2 {\n",
       "            background-color:  #f6a385;\n",
       "            color:  #000000;\n",
       "        }    #T_b8bf1522_94fb_11ea_8c98_f8a2d6221d70row1_col3 {\n",
       "            background-color:  #3b4cc0;\n",
       "            color:  #f1f1f1;\n",
       "        }    #T_b8bf1522_94fb_11ea_8c98_f8a2d6221d70row2_col0 {\n",
       "            background-color:  #f7b396;\n",
       "            color:  #000000;\n",
       "        }    #T_b8bf1522_94fb_11ea_8c98_f8a2d6221d70row2_col1 {\n",
       "            background-color:  #f29072;\n",
       "            color:  #000000;\n",
       "        }    #T_b8bf1522_94fb_11ea_8c98_f8a2d6221d70row2_col2 {\n",
       "            background-color:  #b40426;\n",
       "            color:  #f1f1f1;\n",
       "        }    #T_b8bf1522_94fb_11ea_8c98_f8a2d6221d70row2_col3 {\n",
       "            background-color:  #6e90f2;\n",
       "            color:  #000000;\n",
       "        }    #T_b8bf1522_94fb_11ea_8c98_f8a2d6221d70row3_col0 {\n",
       "            background-color:  #5572df;\n",
       "            color:  #000000;\n",
       "        }    #T_b8bf1522_94fb_11ea_8c98_f8a2d6221d70row3_col1 {\n",
       "            background-color:  #3b4cc0;\n",
       "            color:  #f1f1f1;\n",
       "        }    #T_b8bf1522_94fb_11ea_8c98_f8a2d6221d70row3_col2 {\n",
       "            background-color:  #3b4cc0;\n",
       "            color:  #f1f1f1;\n",
       "        }    #T_b8bf1522_94fb_11ea_8c98_f8a2d6221d70row3_col3 {\n",
       "            background-color:  #b40426;\n",
       "            color:  #f1f1f1;\n",
       "        }</style><table id=\"T_b8bf1522_94fb_11ea_8c98_f8a2d6221d70\" ><thead>    <tr>        <th class=\"blank level0\" ></th>        <th class=\"col_heading level0 col0\" >NET SALES UNITS</th>        <th class=\"col_heading level0 col1\" >UNIT PRICE</th>        <th class=\"col_heading level0 col2\" >INVOICED AMOUNT </th>        <th class=\"col_heading level0 col3\" >ITEM DISC</th>    </tr></thead><tbody>\n",
       "                <tr>\n",
       "                        <th id=\"T_b8bf1522_94fb_11ea_8c98_f8a2d6221d70level0_row0\" class=\"row_heading level0 row0\" >NET SALES UNITS</th>\n",
       "                        <td id=\"T_b8bf1522_94fb_11ea_8c98_f8a2d6221d70row0_col0\" class=\"data row0 col0\" >1.000000</td>\n",
       "                        <td id=\"T_b8bf1522_94fb_11ea_8c98_f8a2d6221d70row0_col1\" class=\"data row0 col1\" >-0.050504</td>\n",
       "                        <td id=\"T_b8bf1522_94fb_11ea_8c98_f8a2d6221d70row0_col2\" class=\"data row0 col2\" >0.665743</td>\n",
       "                        <td id=\"T_b8bf1522_94fb_11ea_8c98_f8a2d6221d70row0_col3\" class=\"data row0 col3\" >0.040423</td>\n",
       "            </tr>\n",
       "            <tr>\n",
       "                        <th id=\"T_b8bf1522_94fb_11ea_8c98_f8a2d6221d70level0_row1\" class=\"row_heading level0 row1\" >UNIT PRICE</th>\n",
       "                        <td id=\"T_b8bf1522_94fb_11ea_8c98_f8a2d6221d70row1_col0\" class=\"data row1 col0\" >-0.050504</td>\n",
       "                        <td id=\"T_b8bf1522_94fb_11ea_8c98_f8a2d6221d70row1_col1\" class=\"data row1 col1\" >1.000000</td>\n",
       "                        <td id=\"T_b8bf1522_94fb_11ea_8c98_f8a2d6221d70row1_col2\" class=\"data row1 col2\" >0.615505</td>\n",
       "                        <td id=\"T_b8bf1522_94fb_11ea_8c98_f8a2d6221d70row1_col3\" class=\"data row1 col3\" >-0.677143</td>\n",
       "            </tr>\n",
       "            <tr>\n",
       "                        <th id=\"T_b8bf1522_94fb_11ea_8c98_f8a2d6221d70level0_row2\" class=\"row_heading level0 row2\" >INVOICED AMOUNT </th>\n",
       "                        <td id=\"T_b8bf1522_94fb_11ea_8c98_f8a2d6221d70row2_col0\" class=\"data row2 col0\" >0.665743</td>\n",
       "                        <td id=\"T_b8bf1522_94fb_11ea_8c98_f8a2d6221d70row2_col1\" class=\"data row2 col1\" >0.615505</td>\n",
       "                        <td id=\"T_b8bf1522_94fb_11ea_8c98_f8a2d6221d70row2_col2\" class=\"data row2 col2\" >1.000000</td>\n",
       "                        <td id=\"T_b8bf1522_94fb_11ea_8c98_f8a2d6221d70row2_col3\" class=\"data row2 col3\" >-0.406101</td>\n",
       "            </tr>\n",
       "            <tr>\n",
       "                        <th id=\"T_b8bf1522_94fb_11ea_8c98_f8a2d6221d70level0_row3\" class=\"row_heading level0 row3\" >ITEM DISC</th>\n",
       "                        <td id=\"T_b8bf1522_94fb_11ea_8c98_f8a2d6221d70row3_col0\" class=\"data row3 col0\" >0.040423</td>\n",
       "                        <td id=\"T_b8bf1522_94fb_11ea_8c98_f8a2d6221d70row3_col1\" class=\"data row3 col1\" >-0.677143</td>\n",
       "                        <td id=\"T_b8bf1522_94fb_11ea_8c98_f8a2d6221d70row3_col2\" class=\"data row3 col2\" >-0.406101</td>\n",
       "                        <td id=\"T_b8bf1522_94fb_11ea_8c98_f8a2d6221d70row3_col3\" class=\"data row3 col3\" >1.000000</td>\n",
       "            </tr>\n",
       "    </tbody></table>"
      ],
      "text/plain": [
       "<pandas.io.formats.style.Styler at 0x192df760908>"
      ]
     },
     "execution_count": 10,
     "metadata": {},
     "output_type": "execute_result"
    }
   ],
   "source": [
    "cor=sale.corr()\n",
    "cor\n",
    "cor.style.background_gradient(cmap='coolwarm')"
   ]
  },
  {
   "cell_type": "markdown",
   "metadata": {},
   "source": [
    "# Bartlett Test"
   ]
  },
  {
   "cell_type": "code",
   "execution_count": 11,
   "metadata": {
    "scrolled": true
   },
   "outputs": [
    {
     "data": {
      "text/plain": [
       "(37424.3454330893, 0.0)"
      ]
     },
     "execution_count": 11,
     "metadata": {},
     "output_type": "execute_result"
    }
   ],
   "source": [
    "from factor_analyzer.factor_analyzer import calculate_bartlett_sphericity\n",
    "chi_square_value,p_value=calculate_bartlett_sphericity(df_num)\n",
    "chi_square_value, p_value\n",
    "\n"
   ]
  },
  {
   "cell_type": "markdown",
   "metadata": {},
   "source": [
    "# KMO"
   ]
  },
  {
   "cell_type": "code",
   "execution_count": 12,
   "metadata": {},
   "outputs": [
    {
     "data": {
      "text/plain": [
       "0.40677074110445766"
      ]
     },
     "execution_count": 12,
     "metadata": {},
     "output_type": "execute_result"
    }
   ],
   "source": [
    "from factor_analyzer.factor_analyzer import calculate_kmo\n",
    "kmo_all,kmo_model=calculate_kmo(df_num)\n",
    "kmo_model"
   ]
  },
  {
   "cell_type": "markdown",
   "metadata": {},
   "source": [
    "# Visualization of Categorical and Continous"
   ]
  },
  {
   "cell_type": "code",
   "execution_count": 13,
   "metadata": {},
   "outputs": [
    {
     "data": {
      "text/plain": [
       "array([[<matplotlib.axes._subplots.AxesSubplot object at 0x00000192DF888448>,\n",
       "        <matplotlib.axes._subplots.AxesSubplot object at 0x00000192DFA61408>],\n",
       "       [<matplotlib.axes._subplots.AxesSubplot object at 0x00000192DFAD6FC8>,\n",
       "        <matplotlib.axes._subplots.AxesSubplot object at 0x00000192DFCD6108>]],\n",
       "      dtype=object)"
      ]
     },
     "execution_count": 13,
     "metadata": {},
     "output_type": "execute_result"
    },
    {
     "data": {
      "image/png": "[encoded data removed]",
      "text/plain": [
       "<Figure size 720x1080 with 4 Axes>"
      ]
     },
     "metadata": {
      "needs_background": "light"
     },
     "output_type": "display_data"
    }
   ],
   "source": [
    "df_num.hist(figsize=(10,15), bins=50, xlabelsize=8, ylabelsize=8)"
   ]
  },
  {
   "cell_type": "code",
   "execution_count": 14,
   "metadata": {},
   "outputs": [
    {
     "data": {
      "text/plain": [
       "<matplotlib.axes._subplots.AxesSubplot at 0x192e2838548>"
      ]
     },
     "execution_count": 14,
     "metadata": {},
     "output_type": "execute_result"
    },
    {
     "data": {
      "image/png": "[encoded data removed]",
      "text/plain": [
       "<Figure size 432x288 with 1 Axes>"
      ]
     },
     "metadata": {
      "needs_background": "light"
     },
     "output_type": "display_data"
    }
   ],
   "source": [
    "sale['ITEM DISC'].value_counts().plot.bar(title='item disc wise sale count')"
   ]
  },
  {
   "cell_type": "code",
   "execution_count": 15,
   "metadata": {},
   "outputs": [
    {
     "data": {
      "text/plain": [
       "<matplotlib.axes._subplots.AxesSubplot at 0x192e24c37c8>"
      ]
     },
     "execution_count": 15,
     "metadata": {},
     "output_type": "execute_result"
    },
    {
     "data": {
      "image/png": "[encoded data removed]",
      "text/plain": [
       "<Figure size 432x288 with 1 Axes>"
      ]
     },
     "metadata": {
      "needs_background": "light"
     },
     "output_type": "display_data"
    }
   ],
   "source": [
    "#this graph show count of location sale from 14264 observation\n",
    "#loc 18 show highest sale\n",
    "sale['LOCATION CODE'].value_counts().plot.bar(title='count sale at location')\n"
   ]
  },
  {
   "cell_type": "code",
   "execution_count": 17,
   "metadata": {},
   "outputs": [
    {
     "data": {
      "text/plain": [
       "<seaborn.axisgrid.FacetGrid at 0x192e24a6108>"
      ]
     },
     "execution_count": 17,
     "metadata": {},
     "output_type": "execute_result"
    },
    {
     "data": {
      "image/png": "[encoded data removed]",
      "text/plain": [
       "<Figure size 360x360 with 1 Axes>"
      ]
     },
     "metadata": {
      "needs_background": "light"
     },
     "output_type": "display_data"
    }
   ],
   "source": [
    "sns.catplot(x=\"BRAND\", y=\"NET SALES UNITS\", kind=\"bar\", data=sale)"
   ]
  },
  {
   "cell_type": "code",
   "execution_count": 18,
   "metadata": {},
   "outputs": [
    {
     "data": {
      "text/plain": [
       "<Figure size 1440x3600 with 0 Axes>"
      ]
     },
     "metadata": {},
     "output_type": "display_data"
    },
    {
     "data": {
      "image/png": "[encoded data removed]",
      "text/plain": [
       "<Figure size 1515.88x360 with 1 Axes>"
      ]
     },
     "metadata": {
      "needs_background": "light"
     },
     "output_type": "display_data"
    }
   ],
   "source": [
    "plt.figure(figsize=(20,50))\n",
    "sns.catplot(x=\"LOCATION CODE\", y=\"ITEM DISC\",hue=\"BRAND\", aspect=4, height=5,\n",
    "            kind=\"bar\", data=sale);"
   ]
  },
  {
   "cell_type": "code",
   "execution_count": 19,
   "metadata": {},
   "outputs": [
    {
     "data": {
      "text/plain": [
       "<matplotlib.axes._subplots.AxesSubplot at 0x192e2761308>"
      ]
     },
     "execution_count": 19,
     "metadata": {},
     "output_type": "execute_result"
    },
    {
     "data": {
      "image/png": "[encoded data removed]",
      "text/plain": [
       "<Figure size 432x288 with 1 Axes>"
      ]
     },
     "metadata": {
      "needs_background": "light"
     },
     "output_type": "display_data"
    }
   ],
   "source": [
    "sale['BRAND'].value_counts().plot.bar(title='brand wise sale count')"
   ]
  },
  {
   "cell_type": "code",
   "execution_count": 20,
   "metadata": {},
   "outputs": [
    {
     "data": {
      "text/plain": [
       "<matplotlib.axes._subplots.AxesSubplot at 0x192e2a7ca48>"
      ]
     },
     "execution_count": 20,
     "metadata": {},
     "output_type": "execute_result"
    },
    {
     "data": {
      "image/png": "[encoded data removed]",
      "text/plain": [
       "<Figure size 432x288 with 1 Axes>"
      ]
     },
     "metadata": {
      "needs_background": "light"
     },
     "output_type": "display_data"
    }
   ],
   "source": [
    "sale['LINE_UP'].value_counts().plot.bar(title='line_up wise sale count')"
   ]
  },
  {
   "cell_type": "code",
   "execution_count": 21,
   "metadata": {},
   "outputs": [
    {
     "data": {
      "text/plain": [
       "<matplotlib.axes._subplots.AxesSubplot at 0x192e2aeff48>"
      ]
     },
     "execution_count": 21,
     "metadata": {},
     "output_type": "execute_result"
    },
    {
     "data": {
      "image/png": "[encoded data removed]",
      "text/plain": [
       "<Figure size 432x288 with 1 Axes>"
      ]
     },
     "metadata": {
      "needs_background": "light"
     },
     "output_type": "display_data"
    }
   ],
   "source": [
    "sale['CATEGORY'].value_counts().plot.bar(title='category wise sale count')"
   ]
  },
  {
   "cell_type": "code",
   "execution_count": 22,
   "metadata": {},
   "outputs": [
    {
     "data": {
      "text/plain": [
       "<matplotlib.axes._subplots.AxesSubplot at 0x192e2b6ab08>"
      ]
     },
     "execution_count": 22,
     "metadata": {},
     "output_type": "execute_result"
    },
    {
     "data": {
      "image/png": "[encoded data removed]",
      "text/plain": [
       "<Figure size 432x288 with 1 Axes>"
      ]
     },
     "metadata": {
      "needs_background": "light"
     },
     "output_type": "display_data"
    }
   ],
   "source": [
    "sale['GENDER'].value_counts().plot.bar(title='gender wise sale count')"
   ]
  },
  {
   "cell_type": "code",
   "execution_count": 23,
   "metadata": {},
   "outputs": [
    {
     "data": {
      "image/png": "[encoded data removed]",
      "text/plain": [
       "<Figure size 291.25x360 with 1 Axes>"
      ]
     },
     "metadata": {
      "needs_background": "light"
     },
     "output_type": "display_data"
    }
   ],
   "source": [
    "sns.catplot(x=\"BRAND\", y=\"NET SALES UNITS\", hue=\"GENDER\", aspect=.6,\n",
    "            kind=\"bar\", data=sale);"
   ]
  },
  {
   "cell_type": "code",
   "execution_count": 24,
   "metadata": {},
   "outputs": [
    {
     "data": {
      "text/plain": [
       "<matplotlib.axes._subplots.AxesSubplot at 0x192e2ca07c8>"
      ]
     },
     "execution_count": 24,
     "metadata": {},
     "output_type": "execute_result"
    },
    {
     "data": {
      "image/png": "[encoded data removed]",
      "text/plain": [
       "<Figure size 432x288 with 1 Axes>"
      ]
     },
     "metadata": {
      "needs_background": "light"
     },
     "output_type": "display_data"
    }
   ],
   "source": [
    "sale['CASE MATERIAL'].value_counts().plot.bar(title='case material wise sale count')"
   ]
  },
  {
   "cell_type": "code",
   "execution_count": 25,
   "metadata": {},
   "outputs": [
    {
     "data": {
      "text/plain": [
       "<Figure size 1440x3600 with 0 Axes>"
      ]
     },
     "metadata": {},
     "output_type": "display_data"
    },
    {
     "data": {
      "image/png": "[encoded data removed]",
      "text/plain": [
       "<Figure size 1515.88x360 with 1 Axes>"
      ]
     },
     "metadata": {
      "needs_background": "light"
     },
     "output_type": "display_data"
    }
   ],
   "source": [
    "plt.figure(figsize=(20,50))\n",
    "sns.catplot(x=\"CASE MATERIAL\", y=\"NET SALES UNITS\",hue=\"BRAND\", aspect=4, height=5,\n",
    "            kind=\"bar\", data=sale);\n",
    "# graph show net sales of CASE MATERIAL brand wise\n",
    "#in brand C CASE MATERIAL RESIN highest sale\n",
    "#in brand B CASE MATERIAL SS and CERAMIC highest sales\n",
    "#in brand A CASE MATERIAL SS highest sales\n"
   ]
  },
  {
   "cell_type": "code",
   "execution_count": 26,
   "metadata": {},
   "outputs": [
    {
     "data": {
      "text/plain": [
       "<matplotlib.axes._subplots.AxesSubplot at 0x192de238408>"
      ]
     },
     "execution_count": 26,
     "metadata": {},
     "output_type": "execute_result"
    },
    {
     "data": {
      "image/png": "[encoded data removed]",
      "text/plain": [
       "<Figure size 432x288 with 1 Axes>"
      ]
     },
     "metadata": {
      "needs_background": "light"
     },
     "output_type": "display_data"
    }
   ],
   "source": [
    "sale['CASE COLOR'].value_counts().plot.bar(title='case color wise sale count')\n"
   ]
  },
  {
   "cell_type": "code",
   "execution_count": 27,
   "metadata": {},
   "outputs": [
    {
     "data": {
      "text/plain": [
       "<Figure size 1440x3600 with 0 Axes>"
      ]
     },
     "metadata": {},
     "output_type": "display_data"
    },
    {
     "data": {
      "image/png": "[encoded data removed]",
      "text/plain": [
       "<Figure size 1515.88x360 with 1 Axes>"
      ]
     },
     "metadata": {
      "needs_background": "light"
     },
     "output_type": "display_data"
    }
   ],
   "source": [
    "plt.figure(figsize=(20,50))\n",
    "sns.catplot(x=\"CASE COLOR\", y=\"NET SALES UNITS\",hue=\"BRAND\", aspect=4, height=5,\n",
    "            kind=\"bar\", data=sale);\n",
    "# graph show net sales of CASE COLOR brand wise\n",
    "#in brand C CASE COLOR ORN highest sale\n",
    "#in brand B CASE COLOR BLK highest sales\n",
    "#in brand A CASE COLOR SLV highest sales"
   ]
  },
  {
   "cell_type": "code",
   "execution_count": 28,
   "metadata": {},
   "outputs": [
    {
     "data": {
      "text/plain": [
       "<matplotlib.axes._subplots.AxesSubplot at 0x192e2db6988>"
      ]
     },
     "execution_count": 28,
     "metadata": {},
     "output_type": "execute_result"
    },
    {
     "data": {
      "image/png": "[encoded data removed]",
      "text/plain": [
       "<Figure size 432x288 with 1 Axes>"
      ]
     },
     "metadata": {
      "needs_background": "light"
     },
     "output_type": "display_data"
    }
   ],
   "source": [
    "sale['CASE SHAPE'].value_counts().plot.bar(title='case shape wise sale count')\n"
   ]
  },
  {
   "cell_type": "code",
   "execution_count": 29,
   "metadata": {},
   "outputs": [
    {
     "data": {
      "text/plain": [
       "<Figure size 1440x3600 with 0 Axes>"
      ]
     },
     "metadata": {},
     "output_type": "display_data"
    },
    {
     "data": {
      "image/png": "[encoded data removed]",
      "text/plain": [
       "<Figure size 1515.88x360 with 1 Axes>"
      ]
     },
     "metadata": {
      "needs_background": "light"
     },
     "output_type": "display_data"
    }
   ],
   "source": [
    "plt.figure(figsize=(20,50))\n",
    "sns.catplot(x=\"CASE SHAPE\", y=\"NET SALES UNITS\",hue=\"BRAND\", aspect=4, height=5,\n",
    "            kind=\"bar\", data=sale);\n",
    "# graph show net sales of CASE SHAPE brand wise\n",
    "#in brand C CASE SHAPE Round highest sale\n",
    "#in brand B CASE SHAPE Round highest sales\n",
    "#in brand A CASE SHAPE Round highest sales"
   ]
  },
  {
   "cell_type": "code",
   "execution_count": 30,
   "metadata": {},
   "outputs": [
    {
     "data": {
      "text/plain": [
       "<matplotlib.axes._subplots.AxesSubplot at 0x192e2c5ecc8>"
      ]
     },
     "execution_count": 30,
     "metadata": {},
     "output_type": "execute_result"
    },
    {
     "data": {
      "image/png": "[encoded data removed]",
      "text/plain": [
       "<Figure size 432x288 with 1 Axes>"
      ]
     },
     "metadata": {
      "needs_background": "light"
     },
     "output_type": "display_data"
    }
   ],
   "source": [
    "sale['DIAL COLOR'].value_counts().plot.bar(title='dial color wise sale count')\n"
   ]
  },
  {
   "cell_type": "code",
   "execution_count": 31,
   "metadata": {},
   "outputs": [
    {
     "data": {
      "text/plain": [
       "<Figure size 1440x3600 with 0 Axes>"
      ]
     },
     "metadata": {},
     "output_type": "display_data"
    },
    {
     "data": {
      "image/png": "[encoded data removed]",
      "text/plain": [
       "<Figure size 1515.88x360 with 1 Axes>"
      ]
     },
     "metadata": {
      "needs_background": "light"
     },
     "output_type": "display_data"
    }
   ],
   "source": [
    "plt.figure(figsize=(20,50))\n",
    "sns.catplot(x=\"DIAL COLOR\", y=\"NET SALES UNITS\",hue=\"BRAND\", aspect=4, height=5,\n",
    "            kind=\"bar\", data=sale);\n",
    "# graph show net sales of Dial color brand wise\n",
    "#in brand C dial color CHMP highest sale\n",
    "#in brand B dial color BLK highest sales\n",
    "#in brand A dial color SLV highest sales\n"
   ]
  },
  {
   "cell_type": "code",
   "execution_count": 32,
   "metadata": {},
   "outputs": [
    {
     "data": {
      "text/plain": [
       "<matplotlib.axes._subplots.AxesSubplot at 0x192e5b4e488>"
      ]
     },
     "execution_count": 32,
     "metadata": {},
     "output_type": "execute_result"
    },
    {
     "data": {
      "image/png": "[encoded data removed]",
      "text/plain": [
       "<Figure size 432x288 with 1 Axes>"
      ]
     },
     "metadata": {
      "needs_background": "light"
     },
     "output_type": "display_data"
    }
   ],
   "source": [
    "sale['DIAL TYPE'].value_counts().plot.bar(title='dial type wise sale count')\n"
   ]
  },
  {
   "cell_type": "code",
   "execution_count": 33,
   "metadata": {},
   "outputs": [
    {
     "data": {
      "text/plain": [
       "<Figure size 1440x3600 with 0 Axes>"
      ]
     },
     "metadata": {},
     "output_type": "display_data"
    },
    {
     "data": {
      "image/png": "[encoded data removed]",
      "text/plain": [
       "<Figure size 1515.88x360 with 1 Axes>"
      ]
     },
     "metadata": {
      "needs_background": "light"
     },
     "output_type": "display_data"
    }
   ],
   "source": [
    "plt.figure(figsize=(20,50))\n",
    "sns.catplot(x=\"DIAL TYPE\", y=\"NET SALES UNITS\",hue=\"BRAND\", aspect=4, height=5,\n",
    "            kind=\"bar\", data=sale);\n",
    "\n",
    "# graph show net sales of Dial type brand wise\n",
    "#in brand C dial type Digital highest sale\n",
    "#in brand B dial type Analog highest sales\n",
    "#in brand A dial type Analog highest sales"
   ]
  },
  {
   "cell_type": "code",
   "execution_count": 34,
   "metadata": {},
   "outputs": [
    {
     "data": {
      "text/plain": [
       "<matplotlib.axes._subplots.AxesSubplot at 0x192e58f5588>"
      ]
     },
     "execution_count": 34,
     "metadata": {},
     "output_type": "execute_result"
    },
    {
     "data": {
      "image/png": "[encoded data removed]",
      "text/plain": [
       "<Figure size 432x288 with 1 Axes>"
      ]
     },
     "metadata": {
      "needs_background": "light"
     },
     "output_type": "display_data"
    }
   ],
   "source": [
    "sale['STRAP TYPE'].value_counts().plot.bar(title='strap type wise sale count')\n"
   ]
  },
  {
   "cell_type": "code",
   "execution_count": 35,
   "metadata": {},
   "outputs": [
    {
     "data": {
      "text/plain": [
       "<Figure size 1440x3600 with 0 Axes>"
      ]
     },
     "metadata": {},
     "output_type": "display_data"
    },
    {
     "data": {
      "image/png": "[encoded data removed]",
      "text/plain": [
       "<Figure size 1515.88x360 with 1 Axes>"
      ]
     },
     "metadata": {
      "needs_background": "light"
     },
     "output_type": "display_data"
    }
   ],
   "source": [
    "plt.figure(figsize=(20,50))\n",
    "sns.catplot(x=\"STRAP TYPE\", y=\"NET SALES UNITS\",hue=\"BRAND\", aspect=4, height=5,\n",
    "            kind=\"bar\", data=sale);\n",
    "# graph show net sales of strap type brand wise\n",
    "#in brand C strap type Resin highest sales\n",
    "#in brand B stap type SS highest sales\n",
    "#in brand A stap type SS highest sales\n"
   ]
  },
  {
   "cell_type": "code",
   "execution_count": 36,
   "metadata": {},
   "outputs": [
    {
     "data": {
      "text/plain": [
       "<matplotlib.axes._subplots.AxesSubplot at 0x192e75e75c8>"
      ]
     },
     "execution_count": 36,
     "metadata": {},
     "output_type": "execute_result"
    },
    {
     "data": {
      "image/png": "[encoded data removed]",
      "text/plain": [
       "<Figure size 432x288 with 1 Axes>"
      ]
     },
     "metadata": {
      "needs_background": "light"
     },
     "output_type": "display_data"
    }
   ],
   "source": [
    "sale['STRAP COLOR'].value_counts().plot.bar(title='strap color wise sale count')\n"
   ]
  },
  {
   "cell_type": "code",
   "execution_count": 37,
   "metadata": {},
   "outputs": [
    {
     "data": {
      "text/plain": [
       "<Figure size 1440x3600 with 0 Axes>"
      ]
     },
     "metadata": {},
     "output_type": "display_data"
    },
    {
     "data": {
      "image/png": "[encoded data removed]",
      "text/plain": [
       "<Figure size 1515.88x360 with 1 Axes>"
      ]
     },
     "metadata": {
      "needs_background": "light"
     },
     "output_type": "display_data"
    }
   ],
   "source": [
    "plt.figure(figsize=(20,50))\n",
    "sns.catplot(x=\"STRAP COLOR\", y=\"NET SALES UNITS\",hue=\"BRAND\", aspect=4, height=5,\n",
    "            kind=\"bar\", data=sale);\n",
    "\n",
    "# graph show net sales of strap color brand wise\n",
    "#in brand C strap color GLD and BLK highest sales\n",
    "#in brand B stap color BLK, 2T BLU, 2T BLK highest sales\n",
    "#in brand A stap color SLV highest sales\n"
   ]
  },
  {
   "cell_type": "code",
   "execution_count": 38,
   "metadata": {},
   "outputs": [],
   "source": [
    "brandc=sale[sale['BRAND']=='Brand C']"
   ]
  },
  {
   "cell_type": "code",
   "execution_count": 39,
   "metadata": {},
   "outputs": [
    {
     "data": {
      "text/html": [
       "<div>\n",
       "<style scoped>\n",
       "    .dataframe tbody tr th:only-of-type {\n",
       "        vertical-align: middle;\n",
       "    }\n",
       "\n",
       "    .dataframe tbody tr th {\n",
       "        vertical-align: top;\n",
       "    }\n",
       "\n",
       "    .dataframe thead th {\n",
       "        text-align: right;\n",
       "    }\n",
       "</style>\n",
       "<table border=\"1\" class=\"dataframe\">\n",
       "  <thead>\n",
       "    <tr style=\"text-align: right;\">\n",
       "      <th></th>\n",
       "      <th>SKU</th>\n",
       "      <th>LOCATION CODE</th>\n",
       "      <th>BRAND</th>\n",
       "      <th>NET SALES UNITS</th>\n",
       "      <th>UNIT PRICE</th>\n",
       "      <th>INVOICED AMOUNT</th>\n",
       "      <th>LINE_UP</th>\n",
       "      <th>CATEGORY</th>\n",
       "      <th>GENDER</th>\n",
       "      <th>CASE MATERIAL</th>\n",
       "      <th>CASE COLOR</th>\n",
       "      <th>CASE SHAPE</th>\n",
       "      <th>DIAL TYPE</th>\n",
       "      <th>DIAL COLOR</th>\n",
       "      <th>STRAP TYPE</th>\n",
       "      <th>STRAP COLOR</th>\n",
       "      <th>ITEM DISC</th>\n",
       "    </tr>\n",
       "  </thead>\n",
       "  <tbody>\n",
       "    <tr>\n",
       "      <th>2095</th>\n",
       "      <td>T2Z601</td>\n",
       "      <td>Loc 2</td>\n",
       "      <td>Brand C</td>\n",
       "      <td>1</td>\n",
       "      <td>1640</td>\n",
       "      <td>1640.00</td>\n",
       "      <td>SPECIALS</td>\n",
       "      <td>INDIA</td>\n",
       "      <td>UNISEX</td>\n",
       "      <td>BRASS</td>\n",
       "      <td>GLD</td>\n",
       "      <td>ROUND</td>\n",
       "      <td>ANALOG</td>\n",
       "      <td>WHT</td>\n",
       "      <td>LEATHER</td>\n",
       "      <td>BLK</td>\n",
       "      <td>0.5</td>\n",
       "    </tr>\n",
       "    <tr>\n",
       "      <th>2096</th>\n",
       "      <td>TW000T606</td>\n",
       "      <td>Loc 2</td>\n",
       "      <td>Brand C</td>\n",
       "      <td>1</td>\n",
       "      <td>2790</td>\n",
       "      <td>3990.00</td>\n",
       "      <td>PMDOWN</td>\n",
       "      <td>INDIA</td>\n",
       "      <td>FEMALE</td>\n",
       "      <td>BRASS</td>\n",
       "      <td>SLV</td>\n",
       "      <td>ROUND</td>\n",
       "      <td>ANALOG</td>\n",
       "      <td>SLV</td>\n",
       "      <td>SS</td>\n",
       "      <td>SLV</td>\n",
       "      <td>0.3</td>\n",
       "    </tr>\n",
       "    <tr>\n",
       "      <th>2097</th>\n",
       "      <td>TW00A301E</td>\n",
       "      <td>Loc 2</td>\n",
       "      <td>Brand C</td>\n",
       "      <td>1</td>\n",
       "      <td>1740</td>\n",
       "      <td>1740.00</td>\n",
       "      <td>SPECIALS</td>\n",
       "      <td>INDIA</td>\n",
       "      <td>MALE</td>\n",
       "      <td>BRASS</td>\n",
       "      <td>GLD</td>\n",
       "      <td>ROUND</td>\n",
       "      <td>ANALOG</td>\n",
       "      <td>CHMP</td>\n",
       "      <td>LEATHER</td>\n",
       "      <td>BRW</td>\n",
       "      <td>0.5</td>\n",
       "    </tr>\n",
       "    <tr>\n",
       "      <th>2098</th>\n",
       "      <td>TW00CS15E</td>\n",
       "      <td>Loc 2</td>\n",
       "      <td>Brand C</td>\n",
       "      <td>1</td>\n",
       "      <td>2240</td>\n",
       "      <td>2240.00</td>\n",
       "      <td>SPECIALS</td>\n",
       "      <td>INDIA</td>\n",
       "      <td>FEMALE</td>\n",
       "      <td>BRASS</td>\n",
       "      <td>2T GLD SLV</td>\n",
       "      <td>ROUND</td>\n",
       "      <td>ANALOG</td>\n",
       "      <td>GLD</td>\n",
       "      <td>SS</td>\n",
       "      <td>2T GLD SLV</td>\n",
       "      <td>0.5</td>\n",
       "    </tr>\n",
       "    <tr>\n",
       "      <th>2099</th>\n",
       "      <td>TW2P76500</td>\n",
       "      <td>Loc 2</td>\n",
       "      <td>Brand C</td>\n",
       "      <td>1</td>\n",
       "      <td>3350</td>\n",
       "      <td>3350.00</td>\n",
       "      <td>SPECIALS</td>\n",
       "      <td>OPMHYB</td>\n",
       "      <td>MALE</td>\n",
       "      <td>BRASS</td>\n",
       "      <td>GLD</td>\n",
       "      <td>ROUND</td>\n",
       "      <td>ANALOG</td>\n",
       "      <td>WHT</td>\n",
       "      <td>SS</td>\n",
       "      <td>2T GLD SLV</td>\n",
       "      <td>0.3</td>\n",
       "    </tr>\n",
       "    <tr>\n",
       "      <th>...</th>\n",
       "      <td>...</td>\n",
       "      <td>...</td>\n",
       "      <td>...</td>\n",
       "      <td>...</td>\n",
       "      <td>...</td>\n",
       "      <td>...</td>\n",
       "      <td>...</td>\n",
       "      <td>...</td>\n",
       "      <td>...</td>\n",
       "      <td>...</td>\n",
       "      <td>...</td>\n",
       "      <td>...</td>\n",
       "      <td>...</td>\n",
       "      <td>...</td>\n",
       "      <td>...</td>\n",
       "      <td>...</td>\n",
       "      <td>...</td>\n",
       "    </tr>\n",
       "    <tr>\n",
       "      <th>14259</th>\n",
       "      <td>TW2R23900</td>\n",
       "      <td>Loc 18</td>\n",
       "      <td>Brand C</td>\n",
       "      <td>1</td>\n",
       "      <td>4490</td>\n",
       "      <td>2914.75</td>\n",
       "      <td>CARRYOVER</td>\n",
       "      <td>CEBU</td>\n",
       "      <td>FEMALE</td>\n",
       "      <td>BRASS</td>\n",
       "      <td>2T GLD SLV</td>\n",
       "      <td>ROUND</td>\n",
       "      <td>ANALOG</td>\n",
       "      <td>WHT</td>\n",
       "      <td>SS</td>\n",
       "      <td>2T GLD SLV</td>\n",
       "      <td>0.0</td>\n",
       "    </tr>\n",
       "    <tr>\n",
       "      <th>14260</th>\n",
       "      <td>TW4B08200</td>\n",
       "      <td>Loc 18</td>\n",
       "      <td>Brand C</td>\n",
       "      <td>1</td>\n",
       "      <td>3790</td>\n",
       "      <td>2460.33</td>\n",
       "      <td>CARRYOVER</td>\n",
       "      <td>CEBU</td>\n",
       "      <td>MALE</td>\n",
       "      <td>RESIN</td>\n",
       "      <td>BLK</td>\n",
       "      <td>ROUND</td>\n",
       "      <td>ANALOG</td>\n",
       "      <td>WHT</td>\n",
       "      <td>FABRIC</td>\n",
       "      <td>BRW</td>\n",
       "      <td>0.0</td>\n",
       "    </tr>\n",
       "    <tr>\n",
       "      <th>14261</th>\n",
       "      <td>TW5M14500</td>\n",
       "      <td>Loc 18</td>\n",
       "      <td>Brand C</td>\n",
       "      <td>1</td>\n",
       "      <td>4190</td>\n",
       "      <td>2719.99</td>\n",
       "      <td>CARRYOVER</td>\n",
       "      <td>CEBU</td>\n",
       "      <td>UNISEX</td>\n",
       "      <td>RESIN</td>\n",
       "      <td>BLK</td>\n",
       "      <td>ROUND</td>\n",
       "      <td>DIGITAL</td>\n",
       "      <td>NORMAL</td>\n",
       "      <td>RUBBER</td>\n",
       "      <td>GRY</td>\n",
       "      <td>0.0</td>\n",
       "    </tr>\n",
       "    <tr>\n",
       "      <th>14262</th>\n",
       "      <td>TWEG1538E</td>\n",
       "      <td>Loc 18</td>\n",
       "      <td>Brand C</td>\n",
       "      <td>1</td>\n",
       "      <td>3990</td>\n",
       "      <td>2590.16</td>\n",
       "      <td>CARRYOVER</td>\n",
       "      <td>INDIA</td>\n",
       "      <td>MALE</td>\n",
       "      <td>BRASS</td>\n",
       "      <td>GLD</td>\n",
       "      <td>ROUND</td>\n",
       "      <td>ANALOG</td>\n",
       "      <td>BRW</td>\n",
       "      <td>SS</td>\n",
       "      <td>2T GLD SLV</td>\n",
       "      <td>0.0</td>\n",
       "    </tr>\n",
       "    <tr>\n",
       "      <th>14263</th>\n",
       "      <td>TW2P93700</td>\n",
       "      <td>Loc 4</td>\n",
       "      <td>Brand C</td>\n",
       "      <td>1</td>\n",
       "      <td>7490</td>\n",
       "      <td>5386.11</td>\n",
       "      <td>DROPPED</td>\n",
       "      <td>OPMHYB</td>\n",
       "      <td>FEMALE</td>\n",
       "      <td>ALLOY</td>\n",
       "      <td>GLD</td>\n",
       "      <td>ROUND</td>\n",
       "      <td>ANALOG</td>\n",
       "      <td>SLV</td>\n",
       "      <td>SS</td>\n",
       "      <td>GLD</td>\n",
       "      <td>0.0</td>\n",
       "    </tr>\n",
       "  </tbody>\n",
       "</table>\n",
       "<p>12169 rows × 17 columns</p>\n",
       "</div>"
      ],
      "text/plain": [
       "             SKU LOCATION CODE    BRAND  NET SALES UNITS  UNIT PRICE  \\\n",
       "2095      T2Z601         Loc 2  Brand C                1        1640   \n",
       "2096   TW000T606         Loc 2  Brand C                1        2790   \n",
       "2097   TW00A301E         Loc 2  Brand C                1        1740   \n",
       "2098   TW00CS15E         Loc 2  Brand C                1        2240   \n",
       "2099   TW2P76500         Loc 2  Brand C                1        3350   \n",
       "...          ...           ...      ...              ...         ...   \n",
       "14259  TW2R23900        Loc 18  Brand C                1        4490   \n",
       "14260  TW4B08200        Loc 18  Brand C                1        3790   \n",
       "14261  TW5M14500        Loc 18  Brand C                1        4190   \n",
       "14262  TWEG1538E        Loc 18  Brand C                1        3990   \n",
       "14263  TW2P93700         Loc 4  Brand C                1        7490   \n",
       "\n",
       "       INVOICED AMOUNT     LINE_UP CATEGORY  GENDER CASE MATERIAL  CASE COLOR  \\\n",
       "2095            1640.00   SPECIALS    INDIA  UNISEX         BRASS         GLD   \n",
       "2096            3990.00     PMDOWN    INDIA  FEMALE         BRASS         SLV   \n",
       "2097            1740.00   SPECIALS    INDIA    MALE         BRASS         GLD   \n",
       "2098            2240.00   SPECIALS    INDIA  FEMALE         BRASS  2T GLD SLV   \n",
       "2099            3350.00   SPECIALS   OPMHYB    MALE         BRASS         GLD   \n",
       "...                 ...        ...      ...     ...           ...         ...   \n",
       "14259           2914.75  CARRYOVER     CEBU  FEMALE         BRASS  2T GLD SLV   \n",
       "14260           2460.33  CARRYOVER     CEBU    MALE         RESIN         BLK   \n",
       "14261           2719.99  CARRYOVER     CEBU  UNISEX         RESIN         BLK   \n",
       "14262           2590.16  CARRYOVER    INDIA    MALE         BRASS         GLD   \n",
       "14263           5386.11    DROPPED   OPMHYB  FEMALE         ALLOY         GLD   \n",
       "\n",
       "      CASE SHAPE DIAL TYPE DIAL COLOR STRAP TYPE STRAP COLOR  ITEM DISC  \n",
       "2095       ROUND    ANALOG        WHT    LEATHER         BLK        0.5  \n",
       "2096       ROUND    ANALOG        SLV         SS         SLV        0.3  \n",
       "2097       ROUND    ANALOG       CHMP    LEATHER         BRW        0.5  \n",
       "2098       ROUND    ANALOG        GLD         SS  2T GLD SLV        0.5  \n",
       "2099       ROUND    ANALOG        WHT         SS  2T GLD SLV        0.3  \n",
       "...          ...       ...        ...        ...         ...        ...  \n",
       "14259      ROUND    ANALOG        WHT         SS  2T GLD SLV        0.0  \n",
       "14260      ROUND    ANALOG        WHT     FABRIC         BRW        0.0  \n",
       "14261      ROUND   DIGITAL     NORMAL     RUBBER         GRY        0.0  \n",
       "14262      ROUND    ANALOG        BRW         SS  2T GLD SLV        0.0  \n",
       "14263      ROUND    ANALOG        SLV         SS         GLD        0.0  \n",
       "\n",
       "[12169 rows x 17 columns]"
      ]
     },
     "execution_count": 39,
     "metadata": {},
     "output_type": "execute_result"
    }
   ],
   "source": [
    "brandc"
   ]
  },
  {
   "cell_type": "code",
   "execution_count": 40,
   "metadata": {},
   "outputs": [],
   "source": [
    "brandb=sale[sale['BRAND']=='Brand B']"
   ]
  },
  {
   "cell_type": "code",
   "execution_count": 41,
   "metadata": {},
   "outputs": [
    {
     "data": {
      "text/html": [
       "<div>\n",
       "<style scoped>\n",
       "    .dataframe tbody tr th:only-of-type {\n",
       "        vertical-align: middle;\n",
       "    }\n",
       "\n",
       "    .dataframe tbody tr th {\n",
       "        vertical-align: top;\n",
       "    }\n",
       "\n",
       "    .dataframe thead th {\n",
       "        text-align: right;\n",
       "    }\n",
       "</style>\n",
       "<table border=\"1\" class=\"dataframe\">\n",
       "  <thead>\n",
       "    <tr style=\"text-align: right;\">\n",
       "      <th></th>\n",
       "      <th>SKU</th>\n",
       "      <th>LOCATION CODE</th>\n",
       "      <th>BRAND</th>\n",
       "      <th>NET SALES UNITS</th>\n",
       "      <th>UNIT PRICE</th>\n",
       "      <th>INVOICED AMOUNT</th>\n",
       "      <th>LINE_UP</th>\n",
       "      <th>CATEGORY</th>\n",
       "      <th>GENDER</th>\n",
       "      <th>CASE MATERIAL</th>\n",
       "      <th>CASE COLOR</th>\n",
       "      <th>CASE SHAPE</th>\n",
       "      <th>DIAL TYPE</th>\n",
       "      <th>DIAL COLOR</th>\n",
       "      <th>STRAP TYPE</th>\n",
       "      <th>STRAP COLOR</th>\n",
       "      <th>ITEM DISC</th>\n",
       "    </tr>\n",
       "  </thead>\n",
       "  <tbody>\n",
       "    <tr>\n",
       "      <th>0</th>\n",
       "      <td>PPL.15302JSB/07M</td>\n",
       "      <td>Loc 2</td>\n",
       "      <td>Brand B</td>\n",
       "      <td>1</td>\n",
       "      <td>8190</td>\n",
       "      <td>6552.00</td>\n",
       "      <td>CARRYOVER</td>\n",
       "      <td>ICONIC</td>\n",
       "      <td>MALE</td>\n",
       "      <td>SS</td>\n",
       "      <td>SLV</td>\n",
       "      <td>ROUND</td>\n",
       "      <td>ANALOG</td>\n",
       "      <td>BRW</td>\n",
       "      <td>SS</td>\n",
       "      <td>SLV</td>\n",
       "      <td>0.0</td>\n",
       "    </tr>\n",
       "    <tr>\n",
       "      <th>1</th>\n",
       "      <td>PPL.14378JSR/12P</td>\n",
       "      <td>Loc 9</td>\n",
       "      <td>Brand B</td>\n",
       "      <td>1</td>\n",
       "      <td>7490</td>\n",
       "      <td>5243.00</td>\n",
       "      <td>CARRYOVER</td>\n",
       "      <td>ICONIC</td>\n",
       "      <td>MALE</td>\n",
       "      <td>SS</td>\n",
       "      <td>RGD</td>\n",
       "      <td>ROUND</td>\n",
       "      <td>ANALOG</td>\n",
       "      <td>BRW</td>\n",
       "      <td>RUBBER</td>\n",
       "      <td>BRW</td>\n",
       "      <td>0.0</td>\n",
       "    </tr>\n",
       "    <tr>\n",
       "      <th>2</th>\n",
       "      <td>PPL.15366JS/03M</td>\n",
       "      <td>Loc 18</td>\n",
       "      <td>Brand B</td>\n",
       "      <td>1</td>\n",
       "      <td>7290</td>\n",
       "      <td>4257.36</td>\n",
       "      <td>CARRYOVER</td>\n",
       "      <td>ICONIC</td>\n",
       "      <td>MALE</td>\n",
       "      <td>SS</td>\n",
       "      <td>SLV</td>\n",
       "      <td>ROUND</td>\n",
       "      <td>ANALOG</td>\n",
       "      <td>BLU</td>\n",
       "      <td>SS</td>\n",
       "      <td>SLV</td>\n",
       "      <td>0.0</td>\n",
       "    </tr>\n",
       "    <tr>\n",
       "      <th>3</th>\n",
       "      <td>PPL.15001JSB/02MA</td>\n",
       "      <td>Loc 9</td>\n",
       "      <td>Brand B</td>\n",
       "      <td>1</td>\n",
       "      <td>7590</td>\n",
       "      <td>5313.00</td>\n",
       "      <td>CARRYOVER</td>\n",
       "      <td>ICONIC</td>\n",
       "      <td>MALE</td>\n",
       "      <td>SS</td>\n",
       "      <td>BLK</td>\n",
       "      <td>ROUND</td>\n",
       "      <td>ANALOG</td>\n",
       "      <td>BLK</td>\n",
       "      <td>SS</td>\n",
       "      <td>BLK</td>\n",
       "      <td>0.0</td>\n",
       "    </tr>\n",
       "    <tr>\n",
       "      <th>4</th>\n",
       "      <td>PPL.14834JSB/03M</td>\n",
       "      <td>Loc 9</td>\n",
       "      <td>Brand B</td>\n",
       "      <td>1</td>\n",
       "      <td>10990</td>\n",
       "      <td>7693.00</td>\n",
       "      <td>DROPPED</td>\n",
       "      <td>ICONIC</td>\n",
       "      <td>MALE</td>\n",
       "      <td>SS</td>\n",
       "      <td>BLK</td>\n",
       "      <td>ROUND</td>\n",
       "      <td>ANALOG</td>\n",
       "      <td>BLU</td>\n",
       "      <td>SS</td>\n",
       "      <td>BLK</td>\n",
       "      <td>0.0</td>\n",
       "    </tr>\n",
       "    <tr>\n",
       "      <th>...</th>\n",
       "      <td>...</td>\n",
       "      <td>...</td>\n",
       "      <td>...</td>\n",
       "      <td>...</td>\n",
       "      <td>...</td>\n",
       "      <td>...</td>\n",
       "      <td>...</td>\n",
       "      <td>...</td>\n",
       "      <td>...</td>\n",
       "      <td>...</td>\n",
       "      <td>...</td>\n",
       "      <td>...</td>\n",
       "      <td>...</td>\n",
       "      <td>...</td>\n",
       "      <td>...</td>\n",
       "      <td>...</td>\n",
       "      <td>...</td>\n",
       "    </tr>\n",
       "    <tr>\n",
       "      <th>488</th>\n",
       "      <td>PPL.14796JS/61</td>\n",
       "      <td>Loc 21</td>\n",
       "      <td>Brand B</td>\n",
       "      <td>1</td>\n",
       "      <td>3445</td>\n",
       "      <td>2322.60</td>\n",
       "      <td>PMDOWN</td>\n",
       "      <td>ICONIC</td>\n",
       "      <td>MALE</td>\n",
       "      <td>SS</td>\n",
       "      <td>SLV</td>\n",
       "      <td>TONNEAU</td>\n",
       "      <td>ANALOG</td>\n",
       "      <td>GRY</td>\n",
       "      <td>LEATHER</td>\n",
       "      <td>BLK</td>\n",
       "      <td>0.5</td>\n",
       "    </tr>\n",
       "    <tr>\n",
       "      <th>489</th>\n",
       "      <td>PPL.15388JSTB/04M</td>\n",
       "      <td>Loc 18</td>\n",
       "      <td>Brand B</td>\n",
       "      <td>1</td>\n",
       "      <td>7390</td>\n",
       "      <td>4855.23</td>\n",
       "      <td>DROPPED</td>\n",
       "      <td>ICONIC</td>\n",
       "      <td>MALE</td>\n",
       "      <td>SS</td>\n",
       "      <td>SLV</td>\n",
       "      <td>ROUND</td>\n",
       "      <td>ANALOG</td>\n",
       "      <td>SLV</td>\n",
       "      <td>SS</td>\n",
       "      <td>SLV</td>\n",
       "      <td>0.0</td>\n",
       "    </tr>\n",
       "    <tr>\n",
       "      <th>490</th>\n",
       "      <td>PPL.15525JSTB/02M</td>\n",
       "      <td>Loc 18</td>\n",
       "      <td>Brand B</td>\n",
       "      <td>1</td>\n",
       "      <td>8990</td>\n",
       "      <td>5906.43</td>\n",
       "      <td>NEW</td>\n",
       "      <td>URBAN STYLE</td>\n",
       "      <td>MALE</td>\n",
       "      <td>SS</td>\n",
       "      <td>BLK</td>\n",
       "      <td>ROUND</td>\n",
       "      <td>ANALOG</td>\n",
       "      <td>BLK</td>\n",
       "      <td>SS</td>\n",
       "      <td>2T BLK SLV</td>\n",
       "      <td>0.0</td>\n",
       "    </tr>\n",
       "    <tr>\n",
       "      <th>491</th>\n",
       "      <td>PPL.14536JSBN/02</td>\n",
       "      <td>Loc 18</td>\n",
       "      <td>Brand B</td>\n",
       "      <td>1</td>\n",
       "      <td>9490</td>\n",
       "      <td>6234.93</td>\n",
       "      <td>CARRYOVER</td>\n",
       "      <td>ICONIC</td>\n",
       "      <td>MALE</td>\n",
       "      <td>SS</td>\n",
       "      <td>BRW</td>\n",
       "      <td>ROUND</td>\n",
       "      <td>ANALOG</td>\n",
       "      <td>BLK</td>\n",
       "      <td>LEATHER</td>\n",
       "      <td>BRW</td>\n",
       "      <td>0.0</td>\n",
       "    </tr>\n",
       "    <tr>\n",
       "      <th>492</th>\n",
       "      <td>PPL.15527JSTU/04P</td>\n",
       "      <td>Loc 18</td>\n",
       "      <td>Brand B</td>\n",
       "      <td>1</td>\n",
       "      <td>7390</td>\n",
       "      <td>4855.23</td>\n",
       "      <td>NEW</td>\n",
       "      <td>ICONIC</td>\n",
       "      <td>MALE</td>\n",
       "      <td>SS</td>\n",
       "      <td>SLV</td>\n",
       "      <td>ROUND</td>\n",
       "      <td>ANALOG</td>\n",
       "      <td>WHT</td>\n",
       "      <td>LEATHER</td>\n",
       "      <td>BLK</td>\n",
       "      <td>0.0</td>\n",
       "    </tr>\n",
       "  </tbody>\n",
       "</table>\n",
       "<p>493 rows × 17 columns</p>\n",
       "</div>"
      ],
      "text/plain": [
       "                   SKU LOCATION CODE    BRAND  NET SALES UNITS  UNIT PRICE  \\\n",
       "0     PPL.15302JSB/07M         Loc 2  Brand B                1        8190   \n",
       "1     PPL.14378JSR/12P         Loc 9  Brand B                1        7490   \n",
       "2      PPL.15366JS/03M        Loc 18  Brand B                1        7290   \n",
       "3    PPL.15001JSB/02MA         Loc 9  Brand B                1        7590   \n",
       "4     PPL.14834JSB/03M         Loc 9  Brand B                1       10990   \n",
       "..                 ...           ...      ...              ...         ...   \n",
       "488     PPL.14796JS/61        Loc 21  Brand B                1        3445   \n",
       "489  PPL.15388JSTB/04M        Loc 18  Brand B                1        7390   \n",
       "490  PPL.15525JSTB/02M        Loc 18  Brand B                1        8990   \n",
       "491   PPL.14536JSBN/02        Loc 18  Brand B                1        9490   \n",
       "492  PPL.15527JSTU/04P        Loc 18  Brand B                1        7390   \n",
       "\n",
       "     INVOICED AMOUNT     LINE_UP     CATEGORY GENDER CASE MATERIAL CASE COLOR  \\\n",
       "0             6552.00  CARRYOVER       ICONIC   MALE            SS        SLV   \n",
       "1             5243.00  CARRYOVER       ICONIC   MALE            SS        RGD   \n",
       "2             4257.36  CARRYOVER       ICONIC   MALE            SS        SLV   \n",
       "3             5313.00  CARRYOVER       ICONIC   MALE            SS        BLK   \n",
       "4             7693.00    DROPPED       ICONIC   MALE            SS        BLK   \n",
       "..                ...        ...          ...    ...           ...        ...   \n",
       "488           2322.60     PMDOWN       ICONIC   MALE            SS        SLV   \n",
       "489           4855.23    DROPPED       ICONIC   MALE            SS        SLV   \n",
       "490           5906.43        NEW  URBAN STYLE   MALE            SS        BLK   \n",
       "491           6234.93  CARRYOVER       ICONIC   MALE            SS        BRW   \n",
       "492           4855.23        NEW       ICONIC   MALE            SS        SLV   \n",
       "\n",
       "    CASE SHAPE DIAL TYPE DIAL COLOR STRAP TYPE STRAP COLOR  ITEM DISC  \n",
       "0        ROUND    ANALOG        BRW         SS         SLV        0.0  \n",
       "1        ROUND    ANALOG        BRW     RUBBER         BRW        0.0  \n",
       "2        ROUND    ANALOG        BLU         SS         SLV        0.0  \n",
       "3        ROUND    ANALOG        BLK         SS         BLK        0.0  \n",
       "4        ROUND    ANALOG        BLU         SS         BLK        0.0  \n",
       "..         ...       ...        ...        ...         ...        ...  \n",
       "488    TONNEAU    ANALOG        GRY    LEATHER         BLK        0.5  \n",
       "489      ROUND    ANALOG        SLV         SS         SLV        0.0  \n",
       "490      ROUND    ANALOG        BLK         SS  2T BLK SLV        0.0  \n",
       "491      ROUND    ANALOG        BLK    LEATHER         BRW        0.0  \n",
       "492      ROUND    ANALOG        WHT    LEATHER         BLK        0.0  \n",
       "\n",
       "[493 rows x 17 columns]"
      ]
     },
     "execution_count": 41,
     "metadata": {},
     "output_type": "execute_result"
    }
   ],
   "source": [
    "brandb"
   ]
  },
  {
   "cell_type": "code",
   "execution_count": 42,
   "metadata": {},
   "outputs": [],
   "source": [
    "branda=sale[sale['BRAND']=='Brand A']"
   ]
  },
  {
   "cell_type": "code",
   "execution_count": 43,
   "metadata": {},
   "outputs": [
    {
     "data": {
      "text/html": [
       "<div>\n",
       "<style scoped>\n",
       "    .dataframe tbody tr th:only-of-type {\n",
       "        vertical-align: middle;\n",
       "    }\n",
       "\n",
       "    .dataframe tbody tr th {\n",
       "        vertical-align: top;\n",
       "    }\n",
       "\n",
       "    .dataframe thead th {\n",
       "        text-align: right;\n",
       "    }\n",
       "</style>\n",
       "<table border=\"1\" class=\"dataframe\">\n",
       "  <thead>\n",
       "    <tr style=\"text-align: right;\">\n",
       "      <th></th>\n",
       "      <th>SKU</th>\n",
       "      <th>LOCATION CODE</th>\n",
       "      <th>BRAND</th>\n",
       "      <th>NET SALES UNITS</th>\n",
       "      <th>UNIT PRICE</th>\n",
       "      <th>INVOICED AMOUNT</th>\n",
       "      <th>LINE_UP</th>\n",
       "      <th>CATEGORY</th>\n",
       "      <th>GENDER</th>\n",
       "      <th>CASE MATERIAL</th>\n",
       "      <th>CASE COLOR</th>\n",
       "      <th>CASE SHAPE</th>\n",
       "      <th>DIAL TYPE</th>\n",
       "      <th>DIAL COLOR</th>\n",
       "      <th>STRAP TYPE</th>\n",
       "      <th>STRAP COLOR</th>\n",
       "      <th>ITEM DISC</th>\n",
       "    </tr>\n",
       "  </thead>\n",
       "  <tbody>\n",
       "    <tr>\n",
       "      <th>493</th>\n",
       "      <td>AE1242-0103</td>\n",
       "      <td>Loc 3</td>\n",
       "      <td>Brand A</td>\n",
       "      <td>1</td>\n",
       "      <td>1890</td>\n",
       "      <td>1305.80</td>\n",
       "      <td>PMDOWN</td>\n",
       "      <td>LOWLINE</td>\n",
       "      <td>MALE</td>\n",
       "      <td>SS</td>\n",
       "      <td>SLV</td>\n",
       "      <td>ROUND</td>\n",
       "      <td>ANALOG</td>\n",
       "      <td>SLV</td>\n",
       "      <td>SS</td>\n",
       "      <td>SLV</td>\n",
       "      <td>0.3</td>\n",
       "    </tr>\n",
       "    <tr>\n",
       "      <th>494</th>\n",
       "      <td>AE1243-0103</td>\n",
       "      <td>Loc 3</td>\n",
       "      <td>Brand A</td>\n",
       "      <td>1</td>\n",
       "      <td>1890</td>\n",
       "      <td>1305.80</td>\n",
       "      <td>CARRYOVER</td>\n",
       "      <td>LOWLINE</td>\n",
       "      <td>MALE</td>\n",
       "      <td>SS</td>\n",
       "      <td>SLV</td>\n",
       "      <td>ROUND</td>\n",
       "      <td>ANALOG</td>\n",
       "      <td>SLV</td>\n",
       "      <td>SS</td>\n",
       "      <td>SLV</td>\n",
       "      <td>0.0</td>\n",
       "    </tr>\n",
       "    <tr>\n",
       "      <th>495</th>\n",
       "      <td>AE2243-0103</td>\n",
       "      <td>Loc 3</td>\n",
       "      <td>Brand A</td>\n",
       "      <td>1</td>\n",
       "      <td>1890</td>\n",
       "      <td>1305.80</td>\n",
       "      <td>PMDOWN</td>\n",
       "      <td>LOWLINE</td>\n",
       "      <td>FEMALE</td>\n",
       "      <td>SS</td>\n",
       "      <td>SLV</td>\n",
       "      <td>ROUND</td>\n",
       "      <td>ANALOG</td>\n",
       "      <td>SLV</td>\n",
       "      <td>SS</td>\n",
       "      <td>SLV</td>\n",
       "      <td>0.3</td>\n",
       "    </tr>\n",
       "    <tr>\n",
       "      <th>496</th>\n",
       "      <td>AE2245-0103</td>\n",
       "      <td>Loc 3</td>\n",
       "      <td>Brand A</td>\n",
       "      <td>1</td>\n",
       "      <td>1890</td>\n",
       "      <td>1305.80</td>\n",
       "      <td>PMDOWN</td>\n",
       "      <td>LOWLINE</td>\n",
       "      <td>FEMALE</td>\n",
       "      <td>SS</td>\n",
       "      <td>SLV</td>\n",
       "      <td>ROUND</td>\n",
       "      <td>ANALOG</td>\n",
       "      <td>SLV</td>\n",
       "      <td>SS</td>\n",
       "      <td>SLV</td>\n",
       "      <td>0.3</td>\n",
       "    </tr>\n",
       "    <tr>\n",
       "      <th>497</th>\n",
       "      <td>AL2259-1812</td>\n",
       "      <td>Loc 3</td>\n",
       "      <td>Brand A</td>\n",
       "      <td>1</td>\n",
       "      <td>4890</td>\n",
       "      <td>3378.51</td>\n",
       "      <td>CARRYOVER</td>\n",
       "      <td>REGULAR</td>\n",
       "      <td>FEMALE</td>\n",
       "      <td>SS</td>\n",
       "      <td>RGD</td>\n",
       "      <td>ROUND</td>\n",
       "      <td>ANALOG</td>\n",
       "      <td>RGD</td>\n",
       "      <td>SS</td>\n",
       "      <td>RGD</td>\n",
       "      <td>0.0</td>\n",
       "    </tr>\n",
       "    <tr>\n",
       "      <th>...</th>\n",
       "      <td>...</td>\n",
       "      <td>...</td>\n",
       "      <td>...</td>\n",
       "      <td>...</td>\n",
       "      <td>...</td>\n",
       "      <td>...</td>\n",
       "      <td>...</td>\n",
       "      <td>...</td>\n",
       "      <td>...</td>\n",
       "      <td>...</td>\n",
       "      <td>...</td>\n",
       "      <td>...</td>\n",
       "      <td>...</td>\n",
       "      <td>...</td>\n",
       "      <td>...</td>\n",
       "      <td>...</td>\n",
       "      <td>...</td>\n",
       "    </tr>\n",
       "    <tr>\n",
       "      <th>2090</th>\n",
       "      <td>AE1247-1216</td>\n",
       "      <td>Loc 19</td>\n",
       "      <td>Brand A</td>\n",
       "      <td>1</td>\n",
       "      <td>2890</td>\n",
       "      <td>2109.70</td>\n",
       "      <td>CARRYOVER</td>\n",
       "      <td>LOWLINE</td>\n",
       "      <td>MALE</td>\n",
       "      <td>SS</td>\n",
       "      <td>GLD</td>\n",
       "      <td>ROUND</td>\n",
       "      <td>ANALOG</td>\n",
       "      <td>GLD</td>\n",
       "      <td>SS</td>\n",
       "      <td>GLD</td>\n",
       "      <td>0.0</td>\n",
       "    </tr>\n",
       "    <tr>\n",
       "      <th>2091</th>\n",
       "      <td>AE1248A-0102</td>\n",
       "      <td>Loc 19</td>\n",
       "      <td>Brand A</td>\n",
       "      <td>1</td>\n",
       "      <td>1590</td>\n",
       "      <td>1160.70</td>\n",
       "      <td>CARRYOVER</td>\n",
       "      <td>LOWLINE</td>\n",
       "      <td>MALE</td>\n",
       "      <td>SS</td>\n",
       "      <td>SLV</td>\n",
       "      <td>ROUND</td>\n",
       "      <td>ANALOG</td>\n",
       "      <td>BLK</td>\n",
       "      <td>SS</td>\n",
       "      <td>SLV</td>\n",
       "      <td>0.0</td>\n",
       "    </tr>\n",
       "    <tr>\n",
       "      <th>2092</th>\n",
       "      <td>AH1269-0201</td>\n",
       "      <td>Loc 19</td>\n",
       "      <td>Brand A</td>\n",
       "      <td>1</td>\n",
       "      <td>3590</td>\n",
       "      <td>2620.70</td>\n",
       "      <td>CARRYOVER</td>\n",
       "      <td>LOWLINE</td>\n",
       "      <td>MALE</td>\n",
       "      <td>SS</td>\n",
       "      <td>SLV</td>\n",
       "      <td>ROUND</td>\n",
       "      <td>ANALOG</td>\n",
       "      <td>SLV</td>\n",
       "      <td>LEATHER</td>\n",
       "      <td>BLK</td>\n",
       "      <td>0.0</td>\n",
       "    </tr>\n",
       "    <tr>\n",
       "      <th>2093</th>\n",
       "      <td>AE2302-0110</td>\n",
       "      <td>Loc 18</td>\n",
       "      <td>Brand A</td>\n",
       "      <td>1</td>\n",
       "      <td>2890</td>\n",
       "      <td>2109.70</td>\n",
       "      <td>CARRYOVER</td>\n",
       "      <td>REGULAR</td>\n",
       "      <td>FEMALE</td>\n",
       "      <td>SS</td>\n",
       "      <td>SLV</td>\n",
       "      <td>ROUND</td>\n",
       "      <td>ANALOG</td>\n",
       "      <td>PPL</td>\n",
       "      <td>SS</td>\n",
       "      <td>SLV</td>\n",
       "      <td>0.0</td>\n",
       "    </tr>\n",
       "    <tr>\n",
       "      <th>2094</th>\n",
       "      <td>AE1304-0102</td>\n",
       "      <td>Loc 18</td>\n",
       "      <td>Brand A</td>\n",
       "      <td>1</td>\n",
       "      <td>1590</td>\n",
       "      <td>1160.70</td>\n",
       "      <td>CARRYOVER</td>\n",
       "      <td>REGULAR</td>\n",
       "      <td>MALE</td>\n",
       "      <td>SS</td>\n",
       "      <td>SLV</td>\n",
       "      <td>ROUND</td>\n",
       "      <td>ANALOG</td>\n",
       "      <td>BLK</td>\n",
       "      <td>SS</td>\n",
       "      <td>SLV</td>\n",
       "      <td>0.0</td>\n",
       "    </tr>\n",
       "  </tbody>\n",
       "</table>\n",
       "<p>1602 rows × 17 columns</p>\n",
       "</div>"
      ],
      "text/plain": [
       "               SKU LOCATION CODE    BRAND  NET SALES UNITS  UNIT PRICE  \\\n",
       "493    AE1242-0103         Loc 3  Brand A                1        1890   \n",
       "494    AE1243-0103         Loc 3  Brand A                1        1890   \n",
       "495    AE2243-0103         Loc 3  Brand A                1        1890   \n",
       "496    AE2245-0103         Loc 3  Brand A                1        1890   \n",
       "497    AL2259-1812         Loc 3  Brand A                1        4890   \n",
       "...            ...           ...      ...              ...         ...   \n",
       "2090   AE1247-1216        Loc 19  Brand A                1        2890   \n",
       "2091  AE1248A-0102        Loc 19  Brand A                1        1590   \n",
       "2092   AH1269-0201        Loc 19  Brand A                1        3590   \n",
       "2093   AE2302-0110        Loc 18  Brand A                1        2890   \n",
       "2094   AE1304-0102        Loc 18  Brand A                1        1590   \n",
       "\n",
       "      INVOICED AMOUNT     LINE_UP CATEGORY  GENDER CASE MATERIAL CASE COLOR  \\\n",
       "493            1305.80     PMDOWN  LOWLINE    MALE            SS        SLV   \n",
       "494            1305.80  CARRYOVER  LOWLINE    MALE            SS        SLV   \n",
       "495            1305.80     PMDOWN  LOWLINE  FEMALE            SS        SLV   \n",
       "496            1305.80     PMDOWN  LOWLINE  FEMALE            SS        SLV   \n",
       "497            3378.51  CARRYOVER  REGULAR  FEMALE            SS        RGD   \n",
       "...                ...        ...      ...     ...           ...        ...   \n",
       "2090           2109.70  CARRYOVER  LOWLINE    MALE            SS        GLD   \n",
       "2091           1160.70  CARRYOVER  LOWLINE    MALE            SS        SLV   \n",
       "2092           2620.70  CARRYOVER  LOWLINE    MALE            SS        SLV   \n",
       "2093           2109.70  CARRYOVER  REGULAR  FEMALE            SS        SLV   \n",
       "2094           1160.70  CARRYOVER  REGULAR    MALE            SS        SLV   \n",
       "\n",
       "     CASE SHAPE DIAL TYPE DIAL COLOR STRAP TYPE STRAP COLOR  ITEM DISC  \n",
       "493       ROUND    ANALOG        SLV         SS         SLV        0.3  \n",
       "494       ROUND    ANALOG        SLV         SS         SLV        0.0  \n",
       "495       ROUND    ANALOG        SLV         SS         SLV        0.3  \n",
       "496       ROUND    ANALOG        SLV         SS         SLV        0.3  \n",
       "497       ROUND    ANALOG        RGD         SS         RGD        0.0  \n",
       "...         ...       ...        ...        ...         ...        ...  \n",
       "2090      ROUND    ANALOG        GLD         SS         GLD        0.0  \n",
       "2091      ROUND    ANALOG        BLK         SS         SLV        0.0  \n",
       "2092      ROUND    ANALOG        SLV    LEATHER         BLK        0.0  \n",
       "2093      ROUND    ANALOG        PPL         SS         SLV        0.0  \n",
       "2094      ROUND    ANALOG        BLK         SS         SLV        0.0  \n",
       "\n",
       "[1602 rows x 17 columns]"
      ]
     },
     "execution_count": 43,
     "metadata": {},
     "output_type": "execute_result"
    }
   ],
   "source": [
    "branda"
   ]
  },
  {
   "cell_type": "code",
   "execution_count": 44,
   "metadata": {},
   "outputs": [],
   "source": [
    "clustera=branda.iloc[:,3:6]\n",
    "clusterb=brandb.iloc[:,3:6]\n",
    "clusterc=brandc.iloc[:,3:6]\n"
   ]
  },
  {
   "cell_type": "code",
   "execution_count": 45,
   "metadata": {},
   "outputs": [],
   "source": [
    "import sklearn\n",
    "from sklearn.preprocessing import StandardScaler\n",
    "from sklearn.cluster import KMeans\n",
    "import seaborn as seabornInstance \n",
    "from sklearn.model_selection import train_test_split \n",
    "from sklearn.linear_model import LinearRegression\n",
    "from sklearn import metrics\n",
    "import statsmodels.api as sm "
   ]
  },
  {
   "cell_type": "markdown",
   "metadata": {},
   "source": [
    "# CLUSTERING FOR BRAND A ON BASIS OF NET SALES UNIT, INVOICED AMOUNT, UNIT PRICE"
   ]
  },
  {
   "cell_type": "code",
   "execution_count": 46,
   "metadata": {},
   "outputs": [
    {
     "data": {
      "text/plain": [
       "(1602, 3)"
      ]
     },
     "execution_count": 46,
     "metadata": {},
     "output_type": "execute_result"
    }
   ],
   "source": [
    "scaler = StandardScaler()\n",
    "\n",
    "# fit_transform\n",
    "salesclustera = scaler.fit_transform(clustera)\n",
    "salesclustera.shape"
   ]
  },
  {
   "cell_type": "code",
   "execution_count": 47,
   "metadata": {},
   "outputs": [
    {
     "data": {
      "text/plain": [
       "[<matplotlib.lines.Line2D at 0x192e398a208>]"
      ]
     },
     "execution_count": 47,
     "metadata": {},
     "output_type": "execute_result"
    },
    {
     "data": {
      "image/png": "[encoded data removed]",
      "text/plain": [
       "<Figure size 432x288 with 1 Axes>"
      ]
     },
     "metadata": {
      "needs_background": "light"
     },
     "output_type": "display_data"
    }
   ],
   "source": [
    "# Elbow-curve/SSD\n",
    "\n",
    "ssd = []\n",
    "range_n_clusters = [2, 3, 4, 5, 6, 7, 8]\n",
    "for num_clusters in range_n_clusters:\n",
    "    kmeans = KMeans(n_clusters=num_clusters, max_iter=50)\n",
    "    kmeans.fit(salesclustera)\n",
    "    \n",
    "    ssd.append(kmeans.inertia_)\n",
    "    \n",
    "# plot the SSDs for each n_clusters\n",
    "plt.plot(ssd)"
   ]
  },
  {
   "cell_type": "code",
   "execution_count": 48,
   "metadata": {},
   "outputs": [],
   "source": [
    "kmeans = KMeans(n_clusters=3,random_state=42)\n",
    "kmeans.fit(salesclustera)\n",
    "pred = kmeans.predict(salesclustera)"
   ]
  },
  {
   "cell_type": "code",
   "execution_count": 49,
   "metadata": {},
   "outputs": [
    {
     "name": "stderr",
     "output_type": "stream",
     "text": [
      "C:\\Users\\narve\\Anaconda3\\lib\\site-packages\\ipykernel_launcher.py:1: SettingWithCopyWarning: \n",
      "A value is trying to be set on a copy of a slice from a DataFrame.\n",
      "Try using .loc[row_indexer,col_indexer] = value instead\n",
      "\n",
      "See the caveats in the documentation: https://pandas.pydata.org/pandas-docs/stable/user_guide/indexing.html#returning-a-view-versus-a-copy\n",
      "  \"\"\"Entry point for launching an IPython kernel.\n"
     ]
    },
    {
     "data": {
      "text/plain": [
       "0    894\n",
       "2    707\n",
       "1      1\n",
       "Name: Cluster, dtype: int64"
      ]
     },
     "execution_count": 49,
     "metadata": {},
     "output_type": "execute_result"
    }
   ],
   "source": [
    "branda['Cluster'] = kmeans.labels_\n",
    "branda['Cluster'].value_counts()"
   ]
  },
  {
   "cell_type": "code",
   "execution_count": 50,
   "metadata": {},
   "outputs": [
    {
     "data": {
      "text/html": [
       "<div>\n",
       "<style scoped>\n",
       "    .dataframe tbody tr th:only-of-type {\n",
       "        vertical-align: middle;\n",
       "    }\n",
       "\n",
       "    .dataframe tbody tr th {\n",
       "        vertical-align: top;\n",
       "    }\n",
       "\n",
       "    .dataframe thead th {\n",
       "        text-align: right;\n",
       "    }\n",
       "</style>\n",
       "<table border=\"1\" class=\"dataframe\">\n",
       "  <thead>\n",
       "    <tr style=\"text-align: right;\">\n",
       "      <th></th>\n",
       "      <th>SKU</th>\n",
       "      <th>LOCATION CODE</th>\n",
       "      <th>BRAND</th>\n",
       "      <th>NET SALES UNITS</th>\n",
       "      <th>UNIT PRICE</th>\n",
       "      <th>INVOICED AMOUNT</th>\n",
       "      <th>LINE_UP</th>\n",
       "      <th>CATEGORY</th>\n",
       "      <th>GENDER</th>\n",
       "      <th>CASE MATERIAL</th>\n",
       "      <th>CASE COLOR</th>\n",
       "      <th>CASE SHAPE</th>\n",
       "      <th>DIAL TYPE</th>\n",
       "      <th>DIAL COLOR</th>\n",
       "      <th>STRAP TYPE</th>\n",
       "      <th>STRAP COLOR</th>\n",
       "      <th>ITEM DISC</th>\n",
       "      <th>Cluster</th>\n",
       "    </tr>\n",
       "  </thead>\n",
       "  <tbody>\n",
       "    <tr>\n",
       "      <th>493</th>\n",
       "      <td>AE1242-0103</td>\n",
       "      <td>Loc 3</td>\n",
       "      <td>Brand A</td>\n",
       "      <td>1</td>\n",
       "      <td>1890</td>\n",
       "      <td>1305.80</td>\n",
       "      <td>PMDOWN</td>\n",
       "      <td>LOWLINE</td>\n",
       "      <td>MALE</td>\n",
       "      <td>SS</td>\n",
       "      <td>SLV</td>\n",
       "      <td>ROUND</td>\n",
       "      <td>ANALOG</td>\n",
       "      <td>SLV</td>\n",
       "      <td>SS</td>\n",
       "      <td>SLV</td>\n",
       "      <td>0.3</td>\n",
       "      <td>2</td>\n",
       "    </tr>\n",
       "    <tr>\n",
       "      <th>494</th>\n",
       "      <td>AE1243-0103</td>\n",
       "      <td>Loc 3</td>\n",
       "      <td>Brand A</td>\n",
       "      <td>1</td>\n",
       "      <td>1890</td>\n",
       "      <td>1305.80</td>\n",
       "      <td>CARRYOVER</td>\n",
       "      <td>LOWLINE</td>\n",
       "      <td>MALE</td>\n",
       "      <td>SS</td>\n",
       "      <td>SLV</td>\n",
       "      <td>ROUND</td>\n",
       "      <td>ANALOG</td>\n",
       "      <td>SLV</td>\n",
       "      <td>SS</td>\n",
       "      <td>SLV</td>\n",
       "      <td>0.0</td>\n",
       "      <td>2</td>\n",
       "    </tr>\n",
       "    <tr>\n",
       "      <th>495</th>\n",
       "      <td>AE2243-0103</td>\n",
       "      <td>Loc 3</td>\n",
       "      <td>Brand A</td>\n",
       "      <td>1</td>\n",
       "      <td>1890</td>\n",
       "      <td>1305.80</td>\n",
       "      <td>PMDOWN</td>\n",
       "      <td>LOWLINE</td>\n",
       "      <td>FEMALE</td>\n",
       "      <td>SS</td>\n",
       "      <td>SLV</td>\n",
       "      <td>ROUND</td>\n",
       "      <td>ANALOG</td>\n",
       "      <td>SLV</td>\n",
       "      <td>SS</td>\n",
       "      <td>SLV</td>\n",
       "      <td>0.3</td>\n",
       "      <td>2</td>\n",
       "    </tr>\n",
       "    <tr>\n",
       "      <th>496</th>\n",
       "      <td>AE2245-0103</td>\n",
       "      <td>Loc 3</td>\n",
       "      <td>Brand A</td>\n",
       "      <td>1</td>\n",
       "      <td>1890</td>\n",
       "      <td>1305.80</td>\n",
       "      <td>PMDOWN</td>\n",
       "      <td>LOWLINE</td>\n",
       "      <td>FEMALE</td>\n",
       "      <td>SS</td>\n",
       "      <td>SLV</td>\n",
       "      <td>ROUND</td>\n",
       "      <td>ANALOG</td>\n",
       "      <td>SLV</td>\n",
       "      <td>SS</td>\n",
       "      <td>SLV</td>\n",
       "      <td>0.3</td>\n",
       "      <td>2</td>\n",
       "    </tr>\n",
       "    <tr>\n",
       "      <th>497</th>\n",
       "      <td>AL2259-1812</td>\n",
       "      <td>Loc 3</td>\n",
       "      <td>Brand A</td>\n",
       "      <td>1</td>\n",
       "      <td>4890</td>\n",
       "      <td>3378.51</td>\n",
       "      <td>CARRYOVER</td>\n",
       "      <td>REGULAR</td>\n",
       "      <td>FEMALE</td>\n",
       "      <td>SS</td>\n",
       "      <td>RGD</td>\n",
       "      <td>ROUND</td>\n",
       "      <td>ANALOG</td>\n",
       "      <td>RGD</td>\n",
       "      <td>SS</td>\n",
       "      <td>RGD</td>\n",
       "      <td>0.0</td>\n",
       "      <td>0</td>\n",
       "    </tr>\n",
       "    <tr>\n",
       "      <th>...</th>\n",
       "      <td>...</td>\n",
       "      <td>...</td>\n",
       "      <td>...</td>\n",
       "      <td>...</td>\n",
       "      <td>...</td>\n",
       "      <td>...</td>\n",
       "      <td>...</td>\n",
       "      <td>...</td>\n",
       "      <td>...</td>\n",
       "      <td>...</td>\n",
       "      <td>...</td>\n",
       "      <td>...</td>\n",
       "      <td>...</td>\n",
       "      <td>...</td>\n",
       "      <td>...</td>\n",
       "      <td>...</td>\n",
       "      <td>...</td>\n",
       "      <td>...</td>\n",
       "    </tr>\n",
       "    <tr>\n",
       "      <th>2090</th>\n",
       "      <td>AE1247-1216</td>\n",
       "      <td>Loc 19</td>\n",
       "      <td>Brand A</td>\n",
       "      <td>1</td>\n",
       "      <td>2890</td>\n",
       "      <td>2109.70</td>\n",
       "      <td>CARRYOVER</td>\n",
       "      <td>LOWLINE</td>\n",
       "      <td>MALE</td>\n",
       "      <td>SS</td>\n",
       "      <td>GLD</td>\n",
       "      <td>ROUND</td>\n",
       "      <td>ANALOG</td>\n",
       "      <td>GLD</td>\n",
       "      <td>SS</td>\n",
       "      <td>GLD</td>\n",
       "      <td>0.0</td>\n",
       "      <td>0</td>\n",
       "    </tr>\n",
       "    <tr>\n",
       "      <th>2091</th>\n",
       "      <td>AE1248A-0102</td>\n",
       "      <td>Loc 19</td>\n",
       "      <td>Brand A</td>\n",
       "      <td>1</td>\n",
       "      <td>1590</td>\n",
       "      <td>1160.70</td>\n",
       "      <td>CARRYOVER</td>\n",
       "      <td>LOWLINE</td>\n",
       "      <td>MALE</td>\n",
       "      <td>SS</td>\n",
       "      <td>SLV</td>\n",
       "      <td>ROUND</td>\n",
       "      <td>ANALOG</td>\n",
       "      <td>BLK</td>\n",
       "      <td>SS</td>\n",
       "      <td>SLV</td>\n",
       "      <td>0.0</td>\n",
       "      <td>2</td>\n",
       "    </tr>\n",
       "    <tr>\n",
       "      <th>2092</th>\n",
       "      <td>AH1269-0201</td>\n",
       "      <td>Loc 19</td>\n",
       "      <td>Brand A</td>\n",
       "      <td>1</td>\n",
       "      <td>3590</td>\n",
       "      <td>2620.70</td>\n",
       "      <td>CARRYOVER</td>\n",
       "      <td>LOWLINE</td>\n",
       "      <td>MALE</td>\n",
       "      <td>SS</td>\n",
       "      <td>SLV</td>\n",
       "      <td>ROUND</td>\n",
       "      <td>ANALOG</td>\n",
       "      <td>SLV</td>\n",
       "      <td>LEATHER</td>\n",
       "      <td>BLK</td>\n",
       "      <td>0.0</td>\n",
       "      <td>0</td>\n",
       "    </tr>\n",
       "    <tr>\n",
       "      <th>2093</th>\n",
       "      <td>AE2302-0110</td>\n",
       "      <td>Loc 18</td>\n",
       "      <td>Brand A</td>\n",
       "      <td>1</td>\n",
       "      <td>2890</td>\n",
       "      <td>2109.70</td>\n",
       "      <td>CARRYOVER</td>\n",
       "      <td>REGULAR</td>\n",
       "      <td>FEMALE</td>\n",
       "      <td>SS</td>\n",
       "      <td>SLV</td>\n",
       "      <td>ROUND</td>\n",
       "      <td>ANALOG</td>\n",
       "      <td>PPL</td>\n",
       "      <td>SS</td>\n",
       "      <td>SLV</td>\n",
       "      <td>0.0</td>\n",
       "      <td>0</td>\n",
       "    </tr>\n",
       "    <tr>\n",
       "      <th>2094</th>\n",
       "      <td>AE1304-0102</td>\n",
       "      <td>Loc 18</td>\n",
       "      <td>Brand A</td>\n",
       "      <td>1</td>\n",
       "      <td>1590</td>\n",
       "      <td>1160.70</td>\n",
       "      <td>CARRYOVER</td>\n",
       "      <td>REGULAR</td>\n",
       "      <td>MALE</td>\n",
       "      <td>SS</td>\n",
       "      <td>SLV</td>\n",
       "      <td>ROUND</td>\n",
       "      <td>ANALOG</td>\n",
       "      <td>BLK</td>\n",
       "      <td>SS</td>\n",
       "      <td>SLV</td>\n",
       "      <td>0.0</td>\n",
       "      <td>2</td>\n",
       "    </tr>\n",
       "  </tbody>\n",
       "</table>\n",
       "<p>1602 rows × 18 columns</p>\n",
       "</div>"
      ],
      "text/plain": [
       "               SKU LOCATION CODE    BRAND  NET SALES UNITS  UNIT PRICE  \\\n",
       "493    AE1242-0103         Loc 3  Brand A                1        1890   \n",
       "494    AE1243-0103         Loc 3  Brand A                1        1890   \n",
       "495    AE2243-0103         Loc 3  Brand A                1        1890   \n",
       "496    AE2245-0103         Loc 3  Brand A                1        1890   \n",
       "497    AL2259-1812         Loc 3  Brand A                1        4890   \n",
       "...            ...           ...      ...              ...         ...   \n",
       "2090   AE1247-1216        Loc 19  Brand A                1        2890   \n",
       "2091  AE1248A-0102        Loc 19  Brand A                1        1590   \n",
       "2092   AH1269-0201        Loc 19  Brand A                1        3590   \n",
       "2093   AE2302-0110        Loc 18  Brand A                1        2890   \n",
       "2094   AE1304-0102        Loc 18  Brand A                1        1590   \n",
       "\n",
       "      INVOICED AMOUNT     LINE_UP CATEGORY  GENDER CASE MATERIAL CASE COLOR  \\\n",
       "493            1305.80     PMDOWN  LOWLINE    MALE            SS        SLV   \n",
       "494            1305.80  CARRYOVER  LOWLINE    MALE            SS        SLV   \n",
       "495            1305.80     PMDOWN  LOWLINE  FEMALE            SS        SLV   \n",
       "496            1305.80     PMDOWN  LOWLINE  FEMALE            SS        SLV   \n",
       "497            3378.51  CARRYOVER  REGULAR  FEMALE            SS        RGD   \n",
       "...                ...        ...      ...     ...           ...        ...   \n",
       "2090           2109.70  CARRYOVER  LOWLINE    MALE            SS        GLD   \n",
       "2091           1160.70  CARRYOVER  LOWLINE    MALE            SS        SLV   \n",
       "2092           2620.70  CARRYOVER  LOWLINE    MALE            SS        SLV   \n",
       "2093           2109.70  CARRYOVER  REGULAR  FEMALE            SS        SLV   \n",
       "2094           1160.70  CARRYOVER  REGULAR    MALE            SS        SLV   \n",
       "\n",
       "     CASE SHAPE DIAL TYPE DIAL COLOR STRAP TYPE STRAP COLOR  ITEM DISC  \\\n",
       "493       ROUND    ANALOG        SLV         SS         SLV        0.3   \n",
       "494       ROUND    ANALOG        SLV         SS         SLV        0.0   \n",
       "495       ROUND    ANALOG        SLV         SS         SLV        0.3   \n",
       "496       ROUND    ANALOG        SLV         SS         SLV        0.3   \n",
       "497       ROUND    ANALOG        RGD         SS         RGD        0.0   \n",
       "...         ...       ...        ...        ...         ...        ...   \n",
       "2090      ROUND    ANALOG        GLD         SS         GLD        0.0   \n",
       "2091      ROUND    ANALOG        BLK         SS         SLV        0.0   \n",
       "2092      ROUND    ANALOG        SLV    LEATHER         BLK        0.0   \n",
       "2093      ROUND    ANALOG        PPL         SS         SLV        0.0   \n",
       "2094      ROUND    ANALOG        BLK         SS         SLV        0.0   \n",
       "\n",
       "      Cluster  \n",
       "493         2  \n",
       "494         2  \n",
       "495         2  \n",
       "496         2  \n",
       "497         0  \n",
       "...       ...  \n",
       "2090        0  \n",
       "2091        2  \n",
       "2092        0  \n",
       "2093        0  \n",
       "2094        2  \n",
       "\n",
       "[1602 rows x 18 columns]"
      ]
     },
     "execution_count": 50,
     "metadata": {},
     "output_type": "execute_result"
    }
   ],
   "source": [
    "branda"
   ]
  },
  {
   "cell_type": "markdown",
   "metadata": {},
   "source": [
    "# CLUSTERING FOR BRAND B ON BASIS OF NET SALES UNIT, INVOICED AMOUNT, UNIT PRICE"
   ]
  },
  {
   "cell_type": "code",
   "execution_count": 51,
   "metadata": {},
   "outputs": [
    {
     "data": {
      "text/plain": [
       "(493, 3)"
      ]
     },
     "execution_count": 51,
     "metadata": {},
     "output_type": "execute_result"
    }
   ],
   "source": [
    "scaler = StandardScaler()\n",
    "\n",
    "# fit_transform\n",
    "salesclusterb = scaler.fit_transform(clusterb)\n",
    "salesclusterb.shape"
   ]
  },
  {
   "cell_type": "code",
   "execution_count": 52,
   "metadata": {},
   "outputs": [
    {
     "data": {
      "text/plain": [
       "[<matplotlib.lines.Line2D at 0x192e39fcdc8>]"
      ]
     },
     "execution_count": 52,
     "metadata": {},
     "output_type": "execute_result"
    },
    {
     "data": {
      "image/png": "[encoded data removed]",
      "text/plain": [
       "<Figure size 432x288 with 1 Axes>"
      ]
     },
     "metadata": {
      "needs_background": "light"
     },
     "output_type": "display_data"
    }
   ],
   "source": [
    "# Elbow-curve/SSD\n",
    "\n",
    "ssd = []\n",
    "range_n_clusters = [2, 3, 4, 5, 6, 7, 8]\n",
    "for num_clusters in range_n_clusters:\n",
    "    kmeans = KMeans(n_clusters=num_clusters, max_iter=50)\n",
    "    kmeans.fit(salesclusterb)\n",
    "    \n",
    "    ssd.append(kmeans.inertia_)\n",
    "    \n",
    "# plot the SSDs for each n_clusters\n",
    "plt.plot(ssd)"
   ]
  },
  {
   "cell_type": "code",
   "execution_count": 53,
   "metadata": {},
   "outputs": [],
   "source": [
    "kmeans = KMeans(n_clusters=3,random_state=42)\n",
    "kmeans.fit(salesclusterb)\n",
    "pred = kmeans.predict(salesclusterb)"
   ]
  },
  {
   "cell_type": "code",
   "execution_count": 54,
   "metadata": {},
   "outputs": [
    {
     "name": "stderr",
     "output_type": "stream",
     "text": [
      "C:\\Users\\narve\\Anaconda3\\lib\\site-packages\\ipykernel_launcher.py:1: SettingWithCopyWarning: \n",
      "A value is trying to be set on a copy of a slice from a DataFrame.\n",
      "Try using .loc[row_indexer,col_indexer] = value instead\n",
      "\n",
      "See the caveats in the documentation: https://pandas.pydata.org/pandas-docs/stable/user_guide/indexing.html#returning-a-view-versus-a-copy\n",
      "  \"\"\"Entry point for launching an IPython kernel.\n"
     ]
    },
    {
     "data": {
      "text/plain": [
       "1    254\n",
       "0    237\n",
       "2      2\n",
       "Name: Cluster, dtype: int64"
      ]
     },
     "execution_count": 54,
     "metadata": {},
     "output_type": "execute_result"
    }
   ],
   "source": [
    "brandb['Cluster'] = kmeans.labels_\n",
    "brandb['Cluster'].value_counts()"
   ]
  },
  {
   "cell_type": "code",
   "execution_count": 55,
   "metadata": {},
   "outputs": [
    {
     "data": {
      "text/html": [
       "<div>\n",
       "<style scoped>\n",
       "    .dataframe tbody tr th:only-of-type {\n",
       "        vertical-align: middle;\n",
       "    }\n",
       "\n",
       "    .dataframe tbody tr th {\n",
       "        vertical-align: top;\n",
       "    }\n",
       "\n",
       "    .dataframe thead th {\n",
       "        text-align: right;\n",
       "    }\n",
       "</style>\n",
       "<table border=\"1\" class=\"dataframe\">\n",
       "  <thead>\n",
       "    <tr style=\"text-align: right;\">\n",
       "      <th></th>\n",
       "      <th>SKU</th>\n",
       "      <th>LOCATION CODE</th>\n",
       "      <th>BRAND</th>\n",
       "      <th>NET SALES UNITS</th>\n",
       "      <th>UNIT PRICE</th>\n",
       "      <th>INVOICED AMOUNT</th>\n",
       "      <th>LINE_UP</th>\n",
       "      <th>CATEGORY</th>\n",
       "      <th>GENDER</th>\n",
       "      <th>CASE MATERIAL</th>\n",
       "      <th>CASE COLOR</th>\n",
       "      <th>CASE SHAPE</th>\n",
       "      <th>DIAL TYPE</th>\n",
       "      <th>DIAL COLOR</th>\n",
       "      <th>STRAP TYPE</th>\n",
       "      <th>STRAP COLOR</th>\n",
       "      <th>ITEM DISC</th>\n",
       "      <th>Cluster</th>\n",
       "    </tr>\n",
       "  </thead>\n",
       "  <tbody>\n",
       "    <tr>\n",
       "      <th>0</th>\n",
       "      <td>PPL.15302JSB/07M</td>\n",
       "      <td>Loc 2</td>\n",
       "      <td>Brand B</td>\n",
       "      <td>1</td>\n",
       "      <td>8190</td>\n",
       "      <td>6552.00</td>\n",
       "      <td>CARRYOVER</td>\n",
       "      <td>ICONIC</td>\n",
       "      <td>MALE</td>\n",
       "      <td>SS</td>\n",
       "      <td>SLV</td>\n",
       "      <td>ROUND</td>\n",
       "      <td>ANALOG</td>\n",
       "      <td>BRW</td>\n",
       "      <td>SS</td>\n",
       "      <td>SLV</td>\n",
       "      <td>0.0</td>\n",
       "      <td>1</td>\n",
       "    </tr>\n",
       "    <tr>\n",
       "      <th>1</th>\n",
       "      <td>PPL.14378JSR/12P</td>\n",
       "      <td>Loc 9</td>\n",
       "      <td>Brand B</td>\n",
       "      <td>1</td>\n",
       "      <td>7490</td>\n",
       "      <td>5243.00</td>\n",
       "      <td>CARRYOVER</td>\n",
       "      <td>ICONIC</td>\n",
       "      <td>MALE</td>\n",
       "      <td>SS</td>\n",
       "      <td>RGD</td>\n",
       "      <td>ROUND</td>\n",
       "      <td>ANALOG</td>\n",
       "      <td>BRW</td>\n",
       "      <td>RUBBER</td>\n",
       "      <td>BRW</td>\n",
       "      <td>0.0</td>\n",
       "      <td>1</td>\n",
       "    </tr>\n",
       "    <tr>\n",
       "      <th>2</th>\n",
       "      <td>PPL.15366JS/03M</td>\n",
       "      <td>Loc 18</td>\n",
       "      <td>Brand B</td>\n",
       "      <td>1</td>\n",
       "      <td>7290</td>\n",
       "      <td>4257.36</td>\n",
       "      <td>CARRYOVER</td>\n",
       "      <td>ICONIC</td>\n",
       "      <td>MALE</td>\n",
       "      <td>SS</td>\n",
       "      <td>SLV</td>\n",
       "      <td>ROUND</td>\n",
       "      <td>ANALOG</td>\n",
       "      <td>BLU</td>\n",
       "      <td>SS</td>\n",
       "      <td>SLV</td>\n",
       "      <td>0.0</td>\n",
       "      <td>1</td>\n",
       "    </tr>\n",
       "    <tr>\n",
       "      <th>3</th>\n",
       "      <td>PPL.15001JSB/02MA</td>\n",
       "      <td>Loc 9</td>\n",
       "      <td>Brand B</td>\n",
       "      <td>1</td>\n",
       "      <td>7590</td>\n",
       "      <td>5313.00</td>\n",
       "      <td>CARRYOVER</td>\n",
       "      <td>ICONIC</td>\n",
       "      <td>MALE</td>\n",
       "      <td>SS</td>\n",
       "      <td>BLK</td>\n",
       "      <td>ROUND</td>\n",
       "      <td>ANALOG</td>\n",
       "      <td>BLK</td>\n",
       "      <td>SS</td>\n",
       "      <td>BLK</td>\n",
       "      <td>0.0</td>\n",
       "      <td>1</td>\n",
       "    </tr>\n",
       "    <tr>\n",
       "      <th>4</th>\n",
       "      <td>PPL.14834JSB/03M</td>\n",
       "      <td>Loc 9</td>\n",
       "      <td>Brand B</td>\n",
       "      <td>1</td>\n",
       "      <td>10990</td>\n",
       "      <td>7693.00</td>\n",
       "      <td>DROPPED</td>\n",
       "      <td>ICONIC</td>\n",
       "      <td>MALE</td>\n",
       "      <td>SS</td>\n",
       "      <td>BLK</td>\n",
       "      <td>ROUND</td>\n",
       "      <td>ANALOG</td>\n",
       "      <td>BLU</td>\n",
       "      <td>SS</td>\n",
       "      <td>BLK</td>\n",
       "      <td>0.0</td>\n",
       "      <td>1</td>\n",
       "    </tr>\n",
       "    <tr>\n",
       "      <th>...</th>\n",
       "      <td>...</td>\n",
       "      <td>...</td>\n",
       "      <td>...</td>\n",
       "      <td>...</td>\n",
       "      <td>...</td>\n",
       "      <td>...</td>\n",
       "      <td>...</td>\n",
       "      <td>...</td>\n",
       "      <td>...</td>\n",
       "      <td>...</td>\n",
       "      <td>...</td>\n",
       "      <td>...</td>\n",
       "      <td>...</td>\n",
       "      <td>...</td>\n",
       "      <td>...</td>\n",
       "      <td>...</td>\n",
       "      <td>...</td>\n",
       "      <td>...</td>\n",
       "    </tr>\n",
       "    <tr>\n",
       "      <th>488</th>\n",
       "      <td>PPL.14796JS/61</td>\n",
       "      <td>Loc 21</td>\n",
       "      <td>Brand B</td>\n",
       "      <td>1</td>\n",
       "      <td>3445</td>\n",
       "      <td>2322.60</td>\n",
       "      <td>PMDOWN</td>\n",
       "      <td>ICONIC</td>\n",
       "      <td>MALE</td>\n",
       "      <td>SS</td>\n",
       "      <td>SLV</td>\n",
       "      <td>TONNEAU</td>\n",
       "      <td>ANALOG</td>\n",
       "      <td>GRY</td>\n",
       "      <td>LEATHER</td>\n",
       "      <td>BLK</td>\n",
       "      <td>0.5</td>\n",
       "      <td>0</td>\n",
       "    </tr>\n",
       "    <tr>\n",
       "      <th>489</th>\n",
       "      <td>PPL.15388JSTB/04M</td>\n",
       "      <td>Loc 18</td>\n",
       "      <td>Brand B</td>\n",
       "      <td>1</td>\n",
       "      <td>7390</td>\n",
       "      <td>4855.23</td>\n",
       "      <td>DROPPED</td>\n",
       "      <td>ICONIC</td>\n",
       "      <td>MALE</td>\n",
       "      <td>SS</td>\n",
       "      <td>SLV</td>\n",
       "      <td>ROUND</td>\n",
       "      <td>ANALOG</td>\n",
       "      <td>SLV</td>\n",
       "      <td>SS</td>\n",
       "      <td>SLV</td>\n",
       "      <td>0.0</td>\n",
       "      <td>1</td>\n",
       "    </tr>\n",
       "    <tr>\n",
       "      <th>490</th>\n",
       "      <td>PPL.15525JSTB/02M</td>\n",
       "      <td>Loc 18</td>\n",
       "      <td>Brand B</td>\n",
       "      <td>1</td>\n",
       "      <td>8990</td>\n",
       "      <td>5906.43</td>\n",
       "      <td>NEW</td>\n",
       "      <td>URBAN STYLE</td>\n",
       "      <td>MALE</td>\n",
       "      <td>SS</td>\n",
       "      <td>BLK</td>\n",
       "      <td>ROUND</td>\n",
       "      <td>ANALOG</td>\n",
       "      <td>BLK</td>\n",
       "      <td>SS</td>\n",
       "      <td>2T BLK SLV</td>\n",
       "      <td>0.0</td>\n",
       "      <td>1</td>\n",
       "    </tr>\n",
       "    <tr>\n",
       "      <th>491</th>\n",
       "      <td>PPL.14536JSBN/02</td>\n",
       "      <td>Loc 18</td>\n",
       "      <td>Brand B</td>\n",
       "      <td>1</td>\n",
       "      <td>9490</td>\n",
       "      <td>6234.93</td>\n",
       "      <td>CARRYOVER</td>\n",
       "      <td>ICONIC</td>\n",
       "      <td>MALE</td>\n",
       "      <td>SS</td>\n",
       "      <td>BRW</td>\n",
       "      <td>ROUND</td>\n",
       "      <td>ANALOG</td>\n",
       "      <td>BLK</td>\n",
       "      <td>LEATHER</td>\n",
       "      <td>BRW</td>\n",
       "      <td>0.0</td>\n",
       "      <td>1</td>\n",
       "    </tr>\n",
       "    <tr>\n",
       "      <th>492</th>\n",
       "      <td>PPL.15527JSTU/04P</td>\n",
       "      <td>Loc 18</td>\n",
       "      <td>Brand B</td>\n",
       "      <td>1</td>\n",
       "      <td>7390</td>\n",
       "      <td>4855.23</td>\n",
       "      <td>NEW</td>\n",
       "      <td>ICONIC</td>\n",
       "      <td>MALE</td>\n",
       "      <td>SS</td>\n",
       "      <td>SLV</td>\n",
       "      <td>ROUND</td>\n",
       "      <td>ANALOG</td>\n",
       "      <td>WHT</td>\n",
       "      <td>LEATHER</td>\n",
       "      <td>BLK</td>\n",
       "      <td>0.0</td>\n",
       "      <td>1</td>\n",
       "    </tr>\n",
       "  </tbody>\n",
       "</table>\n",
       "<p>493 rows × 18 columns</p>\n",
       "</div>"
      ],
      "text/plain": [
       "                   SKU LOCATION CODE    BRAND  NET SALES UNITS  UNIT PRICE  \\\n",
       "0     PPL.15302JSB/07M         Loc 2  Brand B                1        8190   \n",
       "1     PPL.14378JSR/12P         Loc 9  Brand B                1        7490   \n",
       "2      PPL.15366JS/03M        Loc 18  Brand B                1        7290   \n",
       "3    PPL.15001JSB/02MA         Loc 9  Brand B                1        7590   \n",
       "4     PPL.14834JSB/03M         Loc 9  Brand B                1       10990   \n",
       "..                 ...           ...      ...              ...         ...   \n",
       "488     PPL.14796JS/61        Loc 21  Brand B                1        3445   \n",
       "489  PPL.15388JSTB/04M        Loc 18  Brand B                1        7390   \n",
       "490  PPL.15525JSTB/02M        Loc 18  Brand B                1        8990   \n",
       "491   PPL.14536JSBN/02        Loc 18  Brand B                1        9490   \n",
       "492  PPL.15527JSTU/04P        Loc 18  Brand B                1        7390   \n",
       "\n",
       "     INVOICED AMOUNT     LINE_UP     CATEGORY GENDER CASE MATERIAL CASE COLOR  \\\n",
       "0             6552.00  CARRYOVER       ICONIC   MALE            SS        SLV   \n",
       "1             5243.00  CARRYOVER       ICONIC   MALE            SS        RGD   \n",
       "2             4257.36  CARRYOVER       ICONIC   MALE            SS        SLV   \n",
       "3             5313.00  CARRYOVER       ICONIC   MALE            SS        BLK   \n",
       "4             7693.00    DROPPED       ICONIC   MALE            SS        BLK   \n",
       "..                ...        ...          ...    ...           ...        ...   \n",
       "488           2322.60     PMDOWN       ICONIC   MALE            SS        SLV   \n",
       "489           4855.23    DROPPED       ICONIC   MALE            SS        SLV   \n",
       "490           5906.43        NEW  URBAN STYLE   MALE            SS        BLK   \n",
       "491           6234.93  CARRYOVER       ICONIC   MALE            SS        BRW   \n",
       "492           4855.23        NEW       ICONIC   MALE            SS        SLV   \n",
       "\n",
       "    CASE SHAPE DIAL TYPE DIAL COLOR STRAP TYPE STRAP COLOR  ITEM DISC  Cluster  \n",
       "0        ROUND    ANALOG        BRW         SS         SLV        0.0        1  \n",
       "1        ROUND    ANALOG        BRW     RUBBER         BRW        0.0        1  \n",
       "2        ROUND    ANALOG        BLU         SS         SLV        0.0        1  \n",
       "3        ROUND    ANALOG        BLK         SS         BLK        0.0        1  \n",
       "4        ROUND    ANALOG        BLU         SS         BLK        0.0        1  \n",
       "..         ...       ...        ...        ...         ...        ...      ...  \n",
       "488    TONNEAU    ANALOG        GRY    LEATHER         BLK        0.5        0  \n",
       "489      ROUND    ANALOG        SLV         SS         SLV        0.0        1  \n",
       "490      ROUND    ANALOG        BLK         SS  2T BLK SLV        0.0        1  \n",
       "491      ROUND    ANALOG        BLK    LEATHER         BRW        0.0        1  \n",
       "492      ROUND    ANALOG        WHT    LEATHER         BLK        0.0        1  \n",
       "\n",
       "[493 rows x 18 columns]"
      ]
     },
     "execution_count": 55,
     "metadata": {},
     "output_type": "execute_result"
    }
   ],
   "source": [
    "brandb"
   ]
  },
  {
   "cell_type": "markdown",
   "metadata": {},
   "source": [
    "# CLUSTERING FOR BRAND C ON BASIS OF NET SALES UNIT, INVOICED AMOUNT, UNIT PRICE"
   ]
  },
  {
   "cell_type": "code",
   "execution_count": 56,
   "metadata": {},
   "outputs": [
    {
     "data": {
      "text/plain": [
       "(12169, 3)"
      ]
     },
     "execution_count": 56,
     "metadata": {},
     "output_type": "execute_result"
    }
   ],
   "source": [
    "scaler = StandardScaler()\n",
    "\n",
    "# fit_transform\n",
    "salesclusterc = scaler.fit_transform(clusterc)\n",
    "salesclusterc.shape"
   ]
  },
  {
   "cell_type": "code",
   "execution_count": 57,
   "metadata": {},
   "outputs": [
    {
     "data": {
      "text/plain": [
       "[<matplotlib.lines.Line2D at 0x192e3a7b388>]"
      ]
     },
     "execution_count": 57,
     "metadata": {},
     "output_type": "execute_result"
    },
    {
     "data": {
      "image/png": "[encoded data removed]",
      "text/plain": [
       "<Figure size 432x288 with 1 Axes>"
      ]
     },
     "metadata": {
      "needs_background": "light"
     },
     "output_type": "display_data"
    }
   ],
   "source": [
    "# Elbow-curve/SSD\n",
    "\n",
    "ssd = []\n",
    "range_n_clusters = [2, 3, 4, 5, 6, 7, 8]\n",
    "for num_clusters in range_n_clusters:\n",
    "    kmeans = KMeans(n_clusters=num_clusters, max_iter=50)\n",
    "    kmeans.fit(salesclusterc)\n",
    "    \n",
    "    ssd.append(kmeans.inertia_)\n",
    "    \n",
    "# plot the SSDs for each n_clusters\n",
    "plt.plot(ssd)"
   ]
  },
  {
   "cell_type": "code",
   "execution_count": 58,
   "metadata": {},
   "outputs": [],
   "source": [
    "kmeans = KMeans(n_clusters=3,random_state=42)\n",
    "kmeans.fit(salesclusterc)\n",
    "pred = kmeans.predict(salesclusterc)"
   ]
  },
  {
   "cell_type": "code",
   "execution_count": 59,
   "metadata": {},
   "outputs": [
    {
     "name": "stderr",
     "output_type": "stream",
     "text": [
      "C:\\Users\\narve\\Anaconda3\\lib\\site-packages\\ipykernel_launcher.py:1: SettingWithCopyWarning: \n",
      "A value is trying to be set on a copy of a slice from a DataFrame.\n",
      "Try using .loc[row_indexer,col_indexer] = value instead\n",
      "\n",
      "See the caveats in the documentation: https://pandas.pydata.org/pandas-docs/stable/user_guide/indexing.html#returning-a-view-versus-a-copy\n",
      "  \"\"\"Entry point for launching an IPython kernel.\n"
     ]
    },
    {
     "data": {
      "text/plain": [
       "0    8860\n",
       "1    3305\n",
       "2       4\n",
       "Name: Cluster, dtype: int64"
      ]
     },
     "execution_count": 59,
     "metadata": {},
     "output_type": "execute_result"
    }
   ],
   "source": [
    "brandc['Cluster'] = kmeans.labels_\n",
    "brandc['Cluster'].value_counts()"
   ]
  },
  {
   "cell_type": "code",
   "execution_count": 60,
   "metadata": {},
   "outputs": [
    {
     "data": {
      "text/html": [
       "<div>\n",
       "<style scoped>\n",
       "    .dataframe tbody tr th:only-of-type {\n",
       "        vertical-align: middle;\n",
       "    }\n",
       "\n",
       "    .dataframe tbody tr th {\n",
       "        vertical-align: top;\n",
       "    }\n",
       "\n",
       "    .dataframe thead th {\n",
       "        text-align: right;\n",
       "    }\n",
       "</style>\n",
       "<table border=\"1\" class=\"dataframe\">\n",
       "  <thead>\n",
       "    <tr style=\"text-align: right;\">\n",
       "      <th></th>\n",
       "      <th>SKU</th>\n",
       "      <th>LOCATION CODE</th>\n",
       "      <th>BRAND</th>\n",
       "      <th>NET SALES UNITS</th>\n",
       "      <th>UNIT PRICE</th>\n",
       "      <th>INVOICED AMOUNT</th>\n",
       "      <th>LINE_UP</th>\n",
       "      <th>CATEGORY</th>\n",
       "      <th>GENDER</th>\n",
       "      <th>CASE MATERIAL</th>\n",
       "      <th>CASE COLOR</th>\n",
       "      <th>CASE SHAPE</th>\n",
       "      <th>DIAL TYPE</th>\n",
       "      <th>DIAL COLOR</th>\n",
       "      <th>STRAP TYPE</th>\n",
       "      <th>STRAP COLOR</th>\n",
       "      <th>ITEM DISC</th>\n",
       "      <th>Cluster</th>\n",
       "    </tr>\n",
       "  </thead>\n",
       "  <tbody>\n",
       "    <tr>\n",
       "      <th>2095</th>\n",
       "      <td>T2Z601</td>\n",
       "      <td>Loc 2</td>\n",
       "      <td>Brand C</td>\n",
       "      <td>1</td>\n",
       "      <td>1640</td>\n",
       "      <td>1640.00</td>\n",
       "      <td>SPECIALS</td>\n",
       "      <td>INDIA</td>\n",
       "      <td>UNISEX</td>\n",
       "      <td>BRASS</td>\n",
       "      <td>GLD</td>\n",
       "      <td>ROUND</td>\n",
       "      <td>ANALOG</td>\n",
       "      <td>WHT</td>\n",
       "      <td>LEATHER</td>\n",
       "      <td>BLK</td>\n",
       "      <td>0.5</td>\n",
       "      <td>0</td>\n",
       "    </tr>\n",
       "    <tr>\n",
       "      <th>2096</th>\n",
       "      <td>TW000T606</td>\n",
       "      <td>Loc 2</td>\n",
       "      <td>Brand C</td>\n",
       "      <td>1</td>\n",
       "      <td>2790</td>\n",
       "      <td>3990.00</td>\n",
       "      <td>PMDOWN</td>\n",
       "      <td>INDIA</td>\n",
       "      <td>FEMALE</td>\n",
       "      <td>BRASS</td>\n",
       "      <td>SLV</td>\n",
       "      <td>ROUND</td>\n",
       "      <td>ANALOG</td>\n",
       "      <td>SLV</td>\n",
       "      <td>SS</td>\n",
       "      <td>SLV</td>\n",
       "      <td>0.3</td>\n",
       "      <td>0</td>\n",
       "    </tr>\n",
       "    <tr>\n",
       "      <th>2097</th>\n",
       "      <td>TW00A301E</td>\n",
       "      <td>Loc 2</td>\n",
       "      <td>Brand C</td>\n",
       "      <td>1</td>\n",
       "      <td>1740</td>\n",
       "      <td>1740.00</td>\n",
       "      <td>SPECIALS</td>\n",
       "      <td>INDIA</td>\n",
       "      <td>MALE</td>\n",
       "      <td>BRASS</td>\n",
       "      <td>GLD</td>\n",
       "      <td>ROUND</td>\n",
       "      <td>ANALOG</td>\n",
       "      <td>CHMP</td>\n",
       "      <td>LEATHER</td>\n",
       "      <td>BRW</td>\n",
       "      <td>0.5</td>\n",
       "      <td>0</td>\n",
       "    </tr>\n",
       "    <tr>\n",
       "      <th>2098</th>\n",
       "      <td>TW00CS15E</td>\n",
       "      <td>Loc 2</td>\n",
       "      <td>Brand C</td>\n",
       "      <td>1</td>\n",
       "      <td>2240</td>\n",
       "      <td>2240.00</td>\n",
       "      <td>SPECIALS</td>\n",
       "      <td>INDIA</td>\n",
       "      <td>FEMALE</td>\n",
       "      <td>BRASS</td>\n",
       "      <td>2T GLD SLV</td>\n",
       "      <td>ROUND</td>\n",
       "      <td>ANALOG</td>\n",
       "      <td>GLD</td>\n",
       "      <td>SS</td>\n",
       "      <td>2T GLD SLV</td>\n",
       "      <td>0.5</td>\n",
       "      <td>0</td>\n",
       "    </tr>\n",
       "    <tr>\n",
       "      <th>2099</th>\n",
       "      <td>TW2P76500</td>\n",
       "      <td>Loc 2</td>\n",
       "      <td>Brand C</td>\n",
       "      <td>1</td>\n",
       "      <td>3350</td>\n",
       "      <td>3350.00</td>\n",
       "      <td>SPECIALS</td>\n",
       "      <td>OPMHYB</td>\n",
       "      <td>MALE</td>\n",
       "      <td>BRASS</td>\n",
       "      <td>GLD</td>\n",
       "      <td>ROUND</td>\n",
       "      <td>ANALOG</td>\n",
       "      <td>WHT</td>\n",
       "      <td>SS</td>\n",
       "      <td>2T GLD SLV</td>\n",
       "      <td>0.3</td>\n",
       "      <td>0</td>\n",
       "    </tr>\n",
       "    <tr>\n",
       "      <th>...</th>\n",
       "      <td>...</td>\n",
       "      <td>...</td>\n",
       "      <td>...</td>\n",
       "      <td>...</td>\n",
       "      <td>...</td>\n",
       "      <td>...</td>\n",
       "      <td>...</td>\n",
       "      <td>...</td>\n",
       "      <td>...</td>\n",
       "      <td>...</td>\n",
       "      <td>...</td>\n",
       "      <td>...</td>\n",
       "      <td>...</td>\n",
       "      <td>...</td>\n",
       "      <td>...</td>\n",
       "      <td>...</td>\n",
       "      <td>...</td>\n",
       "      <td>...</td>\n",
       "    </tr>\n",
       "    <tr>\n",
       "      <th>14259</th>\n",
       "      <td>TW2R23900</td>\n",
       "      <td>Loc 18</td>\n",
       "      <td>Brand C</td>\n",
       "      <td>1</td>\n",
       "      <td>4490</td>\n",
       "      <td>2914.75</td>\n",
       "      <td>CARRYOVER</td>\n",
       "      <td>CEBU</td>\n",
       "      <td>FEMALE</td>\n",
       "      <td>BRASS</td>\n",
       "      <td>2T GLD SLV</td>\n",
       "      <td>ROUND</td>\n",
       "      <td>ANALOG</td>\n",
       "      <td>WHT</td>\n",
       "      <td>SS</td>\n",
       "      <td>2T GLD SLV</td>\n",
       "      <td>0.0</td>\n",
       "      <td>1</td>\n",
       "    </tr>\n",
       "    <tr>\n",
       "      <th>14260</th>\n",
       "      <td>TW4B08200</td>\n",
       "      <td>Loc 18</td>\n",
       "      <td>Brand C</td>\n",
       "      <td>1</td>\n",
       "      <td>3790</td>\n",
       "      <td>2460.33</td>\n",
       "      <td>CARRYOVER</td>\n",
       "      <td>CEBU</td>\n",
       "      <td>MALE</td>\n",
       "      <td>RESIN</td>\n",
       "      <td>BLK</td>\n",
       "      <td>ROUND</td>\n",
       "      <td>ANALOG</td>\n",
       "      <td>WHT</td>\n",
       "      <td>FABRIC</td>\n",
       "      <td>BRW</td>\n",
       "      <td>0.0</td>\n",
       "      <td>0</td>\n",
       "    </tr>\n",
       "    <tr>\n",
       "      <th>14261</th>\n",
       "      <td>TW5M14500</td>\n",
       "      <td>Loc 18</td>\n",
       "      <td>Brand C</td>\n",
       "      <td>1</td>\n",
       "      <td>4190</td>\n",
       "      <td>2719.99</td>\n",
       "      <td>CARRYOVER</td>\n",
       "      <td>CEBU</td>\n",
       "      <td>UNISEX</td>\n",
       "      <td>RESIN</td>\n",
       "      <td>BLK</td>\n",
       "      <td>ROUND</td>\n",
       "      <td>DIGITAL</td>\n",
       "      <td>NORMAL</td>\n",
       "      <td>RUBBER</td>\n",
       "      <td>GRY</td>\n",
       "      <td>0.0</td>\n",
       "      <td>1</td>\n",
       "    </tr>\n",
       "    <tr>\n",
       "      <th>14262</th>\n",
       "      <td>TWEG1538E</td>\n",
       "      <td>Loc 18</td>\n",
       "      <td>Brand C</td>\n",
       "      <td>1</td>\n",
       "      <td>3990</td>\n",
       "      <td>2590.16</td>\n",
       "      <td>CARRYOVER</td>\n",
       "      <td>INDIA</td>\n",
       "      <td>MALE</td>\n",
       "      <td>BRASS</td>\n",
       "      <td>GLD</td>\n",
       "      <td>ROUND</td>\n",
       "      <td>ANALOG</td>\n",
       "      <td>BRW</td>\n",
       "      <td>SS</td>\n",
       "      <td>2T GLD SLV</td>\n",
       "      <td>0.0</td>\n",
       "      <td>0</td>\n",
       "    </tr>\n",
       "    <tr>\n",
       "      <th>14263</th>\n",
       "      <td>TW2P93700</td>\n",
       "      <td>Loc 4</td>\n",
       "      <td>Brand C</td>\n",
       "      <td>1</td>\n",
       "      <td>7490</td>\n",
       "      <td>5386.11</td>\n",
       "      <td>DROPPED</td>\n",
       "      <td>OPMHYB</td>\n",
       "      <td>FEMALE</td>\n",
       "      <td>ALLOY</td>\n",
       "      <td>GLD</td>\n",
       "      <td>ROUND</td>\n",
       "      <td>ANALOG</td>\n",
       "      <td>SLV</td>\n",
       "      <td>SS</td>\n",
       "      <td>GLD</td>\n",
       "      <td>0.0</td>\n",
       "      <td>1</td>\n",
       "    </tr>\n",
       "  </tbody>\n",
       "</table>\n",
       "<p>12169 rows × 18 columns</p>\n",
       "</div>"
      ],
      "text/plain": [
       "             SKU LOCATION CODE    BRAND  NET SALES UNITS  UNIT PRICE  \\\n",
       "2095      T2Z601         Loc 2  Brand C                1        1640   \n",
       "2096   TW000T606         Loc 2  Brand C                1        2790   \n",
       "2097   TW00A301E         Loc 2  Brand C                1        1740   \n",
       "2098   TW00CS15E         Loc 2  Brand C                1        2240   \n",
       "2099   TW2P76500         Loc 2  Brand C                1        3350   \n",
       "...          ...           ...      ...              ...         ...   \n",
       "14259  TW2R23900        Loc 18  Brand C                1        4490   \n",
       "14260  TW4B08200        Loc 18  Brand C                1        3790   \n",
       "14261  TW5M14500        Loc 18  Brand C                1        4190   \n",
       "14262  TWEG1538E        Loc 18  Brand C                1        3990   \n",
       "14263  TW2P93700         Loc 4  Brand C                1        7490   \n",
       "\n",
       "       INVOICED AMOUNT     LINE_UP CATEGORY  GENDER CASE MATERIAL  CASE COLOR  \\\n",
       "2095            1640.00   SPECIALS    INDIA  UNISEX         BRASS         GLD   \n",
       "2096            3990.00     PMDOWN    INDIA  FEMALE         BRASS         SLV   \n",
       "2097            1740.00   SPECIALS    INDIA    MALE         BRASS         GLD   \n",
       "2098            2240.00   SPECIALS    INDIA  FEMALE         BRASS  2T GLD SLV   \n",
       "2099            3350.00   SPECIALS   OPMHYB    MALE         BRASS         GLD   \n",
       "...                 ...        ...      ...     ...           ...         ...   \n",
       "14259           2914.75  CARRYOVER     CEBU  FEMALE         BRASS  2T GLD SLV   \n",
       "14260           2460.33  CARRYOVER     CEBU    MALE         RESIN         BLK   \n",
       "14261           2719.99  CARRYOVER     CEBU  UNISEX         RESIN         BLK   \n",
       "14262           2590.16  CARRYOVER    INDIA    MALE         BRASS         GLD   \n",
       "14263           5386.11    DROPPED   OPMHYB  FEMALE         ALLOY         GLD   \n",
       "\n",
       "      CASE SHAPE DIAL TYPE DIAL COLOR STRAP TYPE STRAP COLOR  ITEM DISC  \\\n",
       "2095       ROUND    ANALOG        WHT    LEATHER         BLK        0.5   \n",
       "2096       ROUND    ANALOG        SLV         SS         SLV        0.3   \n",
       "2097       ROUND    ANALOG       CHMP    LEATHER         BRW        0.5   \n",
       "2098       ROUND    ANALOG        GLD         SS  2T GLD SLV        0.5   \n",
       "2099       ROUND    ANALOG        WHT         SS  2T GLD SLV        0.3   \n",
       "...          ...       ...        ...        ...         ...        ...   \n",
       "14259      ROUND    ANALOG        WHT         SS  2T GLD SLV        0.0   \n",
       "14260      ROUND    ANALOG        WHT     FABRIC         BRW        0.0   \n",
       "14261      ROUND   DIGITAL     NORMAL     RUBBER         GRY        0.0   \n",
       "14262      ROUND    ANALOG        BRW         SS  2T GLD SLV        0.0   \n",
       "14263      ROUND    ANALOG        SLV         SS         GLD        0.0   \n",
       "\n",
       "       Cluster  \n",
       "2095         0  \n",
       "2096         0  \n",
       "2097         0  \n",
       "2098         0  \n",
       "2099         0  \n",
       "...        ...  \n",
       "14259        1  \n",
       "14260        0  \n",
       "14261        1  \n",
       "14262        0  \n",
       "14263        1  \n",
       "\n",
       "[12169 rows x 18 columns]"
      ]
     },
     "execution_count": 60,
     "metadata": {},
     "output_type": "execute_result"
    }
   ],
   "source": [
    "brandc"
   ]
  },
  {
   "cell_type": "code",
   "execution_count": 61,
   "metadata": {},
   "outputs": [
    {
     "data": {
      "text/plain": [
       "<matplotlib.axes._subplots.AxesSubplot at 0x192e3ad4288>"
      ]
     },
     "execution_count": 61,
     "metadata": {},
     "output_type": "execute_result"
    },
    {
     "data": {
      "image/png": "[encoded data removed]",
      "text/plain": [
       "<Figure size 1080x720 with 1 Axes>"
      ]
     },
     "metadata": {
      "needs_background": "light"
     },
     "output_type": "display_data"
    }
   ],
   "source": [
    "plt.figure(figsize=(15,10))\n",
    "plt.tight_layout()\n",
    "seabornInstance.distplot(sale['UNIT PRICE'])"
   ]
  },
  {
   "cell_type": "markdown",
   "metadata": {},
   "source": [
    "# Model for Business Optimization "
   ]
  },
  {
   "cell_type": "code",
   "execution_count": 62,
   "metadata": {},
   "outputs": [],
   "source": [
    "sales=sale.copy()"
   ]
  },
  {
   "cell_type": "code",
   "execution_count": 63,
   "metadata": {},
   "outputs": [
    {
     "data": {
      "text/html": [
       "<div>\n",
       "<style scoped>\n",
       "    .dataframe tbody tr th:only-of-type {\n",
       "        vertical-align: middle;\n",
       "    }\n",
       "\n",
       "    .dataframe tbody tr th {\n",
       "        vertical-align: top;\n",
       "    }\n",
       "\n",
       "    .dataframe thead th {\n",
       "        text-align: right;\n",
       "    }\n",
       "</style>\n",
       "<table border=\"1\" class=\"dataframe\">\n",
       "  <thead>\n",
       "    <tr style=\"text-align: right;\">\n",
       "      <th></th>\n",
       "      <th>SKU</th>\n",
       "      <th>LOCATION CODE</th>\n",
       "      <th>BRAND</th>\n",
       "      <th>NET SALES UNITS</th>\n",
       "      <th>UNIT PRICE</th>\n",
       "      <th>INVOICED AMOUNT</th>\n",
       "      <th>LINE_UP</th>\n",
       "      <th>CATEGORY</th>\n",
       "      <th>GENDER</th>\n",
       "      <th>CASE MATERIAL</th>\n",
       "      <th>CASE COLOR</th>\n",
       "      <th>CASE SHAPE</th>\n",
       "      <th>DIAL TYPE</th>\n",
       "      <th>DIAL COLOR</th>\n",
       "      <th>STRAP TYPE</th>\n",
       "      <th>STRAP COLOR</th>\n",
       "      <th>ITEM DISC</th>\n",
       "    </tr>\n",
       "  </thead>\n",
       "  <tbody>\n",
       "    <tr>\n",
       "      <th>0</th>\n",
       "      <td>PPL.15302JSB/07M</td>\n",
       "      <td>Loc 2</td>\n",
       "      <td>Brand B</td>\n",
       "      <td>1</td>\n",
       "      <td>8190</td>\n",
       "      <td>6552.00</td>\n",
       "      <td>CARRYOVER</td>\n",
       "      <td>ICONIC</td>\n",
       "      <td>MALE</td>\n",
       "      <td>SS</td>\n",
       "      <td>SLV</td>\n",
       "      <td>ROUND</td>\n",
       "      <td>ANALOG</td>\n",
       "      <td>BRW</td>\n",
       "      <td>SS</td>\n",
       "      <td>SLV</td>\n",
       "      <td>0.0</td>\n",
       "    </tr>\n",
       "    <tr>\n",
       "      <th>1</th>\n",
       "      <td>PPL.14378JSR/12P</td>\n",
       "      <td>Loc 9</td>\n",
       "      <td>Brand B</td>\n",
       "      <td>1</td>\n",
       "      <td>7490</td>\n",
       "      <td>5243.00</td>\n",
       "      <td>CARRYOVER</td>\n",
       "      <td>ICONIC</td>\n",
       "      <td>MALE</td>\n",
       "      <td>SS</td>\n",
       "      <td>RGD</td>\n",
       "      <td>ROUND</td>\n",
       "      <td>ANALOG</td>\n",
       "      <td>BRW</td>\n",
       "      <td>RUBBER</td>\n",
       "      <td>BRW</td>\n",
       "      <td>0.0</td>\n",
       "    </tr>\n",
       "    <tr>\n",
       "      <th>2</th>\n",
       "      <td>PPL.15366JS/03M</td>\n",
       "      <td>Loc 18</td>\n",
       "      <td>Brand B</td>\n",
       "      <td>1</td>\n",
       "      <td>7290</td>\n",
       "      <td>4257.36</td>\n",
       "      <td>CARRYOVER</td>\n",
       "      <td>ICONIC</td>\n",
       "      <td>MALE</td>\n",
       "      <td>SS</td>\n",
       "      <td>SLV</td>\n",
       "      <td>ROUND</td>\n",
       "      <td>ANALOG</td>\n",
       "      <td>BLU</td>\n",
       "      <td>SS</td>\n",
       "      <td>SLV</td>\n",
       "      <td>0.0</td>\n",
       "    </tr>\n",
       "    <tr>\n",
       "      <th>3</th>\n",
       "      <td>PPL.15001JSB/02MA</td>\n",
       "      <td>Loc 9</td>\n",
       "      <td>Brand B</td>\n",
       "      <td>1</td>\n",
       "      <td>7590</td>\n",
       "      <td>5313.00</td>\n",
       "      <td>CARRYOVER</td>\n",
       "      <td>ICONIC</td>\n",
       "      <td>MALE</td>\n",
       "      <td>SS</td>\n",
       "      <td>BLK</td>\n",
       "      <td>ROUND</td>\n",
       "      <td>ANALOG</td>\n",
       "      <td>BLK</td>\n",
       "      <td>SS</td>\n",
       "      <td>BLK</td>\n",
       "      <td>0.0</td>\n",
       "    </tr>\n",
       "    <tr>\n",
       "      <th>4</th>\n",
       "      <td>PPL.14834JSB/03M</td>\n",
       "      <td>Loc 9</td>\n",
       "      <td>Brand B</td>\n",
       "      <td>1</td>\n",
       "      <td>10990</td>\n",
       "      <td>7693.00</td>\n",
       "      <td>DROPPED</td>\n",
       "      <td>ICONIC</td>\n",
       "      <td>MALE</td>\n",
       "      <td>SS</td>\n",
       "      <td>BLK</td>\n",
       "      <td>ROUND</td>\n",
       "      <td>ANALOG</td>\n",
       "      <td>BLU</td>\n",
       "      <td>SS</td>\n",
       "      <td>BLK</td>\n",
       "      <td>0.0</td>\n",
       "    </tr>\n",
       "    <tr>\n",
       "      <th>...</th>\n",
       "      <td>...</td>\n",
       "      <td>...</td>\n",
       "      <td>...</td>\n",
       "      <td>...</td>\n",
       "      <td>...</td>\n",
       "      <td>...</td>\n",
       "      <td>...</td>\n",
       "      <td>...</td>\n",
       "      <td>...</td>\n",
       "      <td>...</td>\n",
       "      <td>...</td>\n",
       "      <td>...</td>\n",
       "      <td>...</td>\n",
       "      <td>...</td>\n",
       "      <td>...</td>\n",
       "      <td>...</td>\n",
       "      <td>...</td>\n",
       "    </tr>\n",
       "    <tr>\n",
       "      <th>14259</th>\n",
       "      <td>TW2R23900</td>\n",
       "      <td>Loc 18</td>\n",
       "      <td>Brand C</td>\n",
       "      <td>1</td>\n",
       "      <td>4490</td>\n",
       "      <td>2914.75</td>\n",
       "      <td>CARRYOVER</td>\n",
       "      <td>CEBU</td>\n",
       "      <td>FEMALE</td>\n",
       "      <td>BRASS</td>\n",
       "      <td>2T GLD SLV</td>\n",
       "      <td>ROUND</td>\n",
       "      <td>ANALOG</td>\n",
       "      <td>WHT</td>\n",
       "      <td>SS</td>\n",
       "      <td>2T GLD SLV</td>\n",
       "      <td>0.0</td>\n",
       "    </tr>\n",
       "    <tr>\n",
       "      <th>14260</th>\n",
       "      <td>TW4B08200</td>\n",
       "      <td>Loc 18</td>\n",
       "      <td>Brand C</td>\n",
       "      <td>1</td>\n",
       "      <td>3790</td>\n",
       "      <td>2460.33</td>\n",
       "      <td>CARRYOVER</td>\n",
       "      <td>CEBU</td>\n",
       "      <td>MALE</td>\n",
       "      <td>RESIN</td>\n",
       "      <td>BLK</td>\n",
       "      <td>ROUND</td>\n",
       "      <td>ANALOG</td>\n",
       "      <td>WHT</td>\n",
       "      <td>FABRIC</td>\n",
       "      <td>BRW</td>\n",
       "      <td>0.0</td>\n",
       "    </tr>\n",
       "    <tr>\n",
       "      <th>14261</th>\n",
       "      <td>TW5M14500</td>\n",
       "      <td>Loc 18</td>\n",
       "      <td>Brand C</td>\n",
       "      <td>1</td>\n",
       "      <td>4190</td>\n",
       "      <td>2719.99</td>\n",
       "      <td>CARRYOVER</td>\n",
       "      <td>CEBU</td>\n",
       "      <td>UNISEX</td>\n",
       "      <td>RESIN</td>\n",
       "      <td>BLK</td>\n",
       "      <td>ROUND</td>\n",
       "      <td>DIGITAL</td>\n",
       "      <td>NORMAL</td>\n",
       "      <td>RUBBER</td>\n",
       "      <td>GRY</td>\n",
       "      <td>0.0</td>\n",
       "    </tr>\n",
       "    <tr>\n",
       "      <th>14262</th>\n",
       "      <td>TWEG1538E</td>\n",
       "      <td>Loc 18</td>\n",
       "      <td>Brand C</td>\n",
       "      <td>1</td>\n",
       "      <td>3990</td>\n",
       "      <td>2590.16</td>\n",
       "      <td>CARRYOVER</td>\n",
       "      <td>INDIA</td>\n",
       "      <td>MALE</td>\n",
       "      <td>BRASS</td>\n",
       "      <td>GLD</td>\n",
       "      <td>ROUND</td>\n",
       "      <td>ANALOG</td>\n",
       "      <td>BRW</td>\n",
       "      <td>SS</td>\n",
       "      <td>2T GLD SLV</td>\n",
       "      <td>0.0</td>\n",
       "    </tr>\n",
       "    <tr>\n",
       "      <th>14263</th>\n",
       "      <td>TW2P93700</td>\n",
       "      <td>Loc 4</td>\n",
       "      <td>Brand C</td>\n",
       "      <td>1</td>\n",
       "      <td>7490</td>\n",
       "      <td>5386.11</td>\n",
       "      <td>DROPPED</td>\n",
       "      <td>OPMHYB</td>\n",
       "      <td>FEMALE</td>\n",
       "      <td>ALLOY</td>\n",
       "      <td>GLD</td>\n",
       "      <td>ROUND</td>\n",
       "      <td>ANALOG</td>\n",
       "      <td>SLV</td>\n",
       "      <td>SS</td>\n",
       "      <td>GLD</td>\n",
       "      <td>0.0</td>\n",
       "    </tr>\n",
       "  </tbody>\n",
       "</table>\n",
       "<p>14264 rows × 17 columns</p>\n",
       "</div>"
      ],
      "text/plain": [
       "                     SKU LOCATION CODE    BRAND  NET SALES UNITS  UNIT PRICE  \\\n",
       "0       PPL.15302JSB/07M         Loc 2  Brand B                1        8190   \n",
       "1       PPL.14378JSR/12P         Loc 9  Brand B                1        7490   \n",
       "2        PPL.15366JS/03M        Loc 18  Brand B                1        7290   \n",
       "3      PPL.15001JSB/02MA         Loc 9  Brand B                1        7590   \n",
       "4       PPL.14834JSB/03M         Loc 9  Brand B                1       10990   \n",
       "...                  ...           ...      ...              ...         ...   \n",
       "14259          TW2R23900        Loc 18  Brand C                1        4490   \n",
       "14260          TW4B08200        Loc 18  Brand C                1        3790   \n",
       "14261          TW5M14500        Loc 18  Brand C                1        4190   \n",
       "14262          TWEG1538E        Loc 18  Brand C                1        3990   \n",
       "14263          TW2P93700         Loc 4  Brand C                1        7490   \n",
       "\n",
       "       INVOICED AMOUNT     LINE_UP CATEGORY  GENDER CASE MATERIAL  CASE COLOR  \\\n",
       "0               6552.00  CARRYOVER   ICONIC    MALE            SS         SLV   \n",
       "1               5243.00  CARRYOVER   ICONIC    MALE            SS         RGD   \n",
       "2               4257.36  CARRYOVER   ICONIC    MALE            SS         SLV   \n",
       "3               5313.00  CARRYOVER   ICONIC    MALE            SS         BLK   \n",
       "4               7693.00    DROPPED   ICONIC    MALE            SS         BLK   \n",
       "...                 ...        ...      ...     ...           ...         ...   \n",
       "14259           2914.75  CARRYOVER     CEBU  FEMALE         BRASS  2T GLD SLV   \n",
       "14260           2460.33  CARRYOVER     CEBU    MALE         RESIN         BLK   \n",
       "14261           2719.99  CARRYOVER     CEBU  UNISEX         RESIN         BLK   \n",
       "14262           2590.16  CARRYOVER    INDIA    MALE         BRASS         GLD   \n",
       "14263           5386.11    DROPPED   OPMHYB  FEMALE         ALLOY         GLD   \n",
       "\n",
       "      CASE SHAPE DIAL TYPE DIAL COLOR STRAP TYPE STRAP COLOR  ITEM DISC  \n",
       "0          ROUND    ANALOG        BRW         SS         SLV        0.0  \n",
       "1          ROUND    ANALOG        BRW     RUBBER         BRW        0.0  \n",
       "2          ROUND    ANALOG        BLU         SS         SLV        0.0  \n",
       "3          ROUND    ANALOG        BLK         SS         BLK        0.0  \n",
       "4          ROUND    ANALOG        BLU         SS         BLK        0.0  \n",
       "...          ...       ...        ...        ...         ...        ...  \n",
       "14259      ROUND    ANALOG        WHT         SS  2T GLD SLV        0.0  \n",
       "14260      ROUND    ANALOG        WHT     FABRIC         BRW        0.0  \n",
       "14261      ROUND   DIGITAL     NORMAL     RUBBER         GRY        0.0  \n",
       "14262      ROUND    ANALOG        BRW         SS  2T GLD SLV        0.0  \n",
       "14263      ROUND    ANALOG        SLV         SS         GLD        0.0  \n",
       "\n",
       "[14264 rows x 17 columns]"
      ]
     },
     "execution_count": 63,
     "metadata": {},
     "output_type": "execute_result"
    }
   ],
   "source": [
    "sales"
   ]
  },
  {
   "cell_type": "code",
   "execution_count": 64,
   "metadata": {},
   "outputs": [],
   "source": [
    "from sklearn.preprocessing import LabelEncoder\n",
    "\n",
    "lb_make = LabelEncoder()\n",
    "sales['SKU'] = lb_make.fit_transform(sales['SKU'])\n",
    "sales['LOCATION CODE'] = lb_make.fit_transform(sales['LOCATION CODE'])\n",
    "sales['BRAND'] = lb_make.fit_transform(sales['BRAND'])\n",
    "sales['LINE_UP'] = lb_make.fit_transform(sales['LINE_UP'])\n",
    "sales['GENDER'] = lb_make.fit_transform(sales['GENDER'])\n",
    "sales['CASE MATERIAL'] = lb_make.fit_transform(sales['CASE MATERIAL'])\n",
    "sales['CATEGORY'] = lb_make.fit_transform(sales['CATEGORY'])\n",
    "sales['STRAP COLOR'] = lb_make.fit_transform(sales['STRAP COLOR'])\n",
    "sales['CASE COLOR'] = lb_make.fit_transform(sales['CASE COLOR'])\n",
    "sales['CASE SHAPE'] = lb_make.fit_transform(sales['CASE SHAPE'])\n",
    "sales['STRAP TYPE'] = lb_make.fit_transform(sales['STRAP TYPE'])\n",
    "sales['DIAL TYPE'] = lb_make.fit_transform(sales['DIAL TYPE'])\n",
    "sales['DIAL COLOR'] = lb_make.fit_transform(sales['DIAL COLOR'])"
   ]
  },
  {
   "cell_type": "code",
   "execution_count": 65,
   "metadata": {},
   "outputs": [
    {
     "data": {
      "text/plain": [
       "array([[2.770e+02, 5.000e+00, 1.000e+00, ..., 6.000e+00, 1.500e+01,\n",
       "        0.000e+00],\n",
       "       [2.210e+02, 1.300e+01, 1.000e+00, ..., 5.000e+00, 6.000e+00,\n",
       "        0.000e+00],\n",
       "       [2.860e+02, 3.000e+00, 1.000e+00, ..., 6.000e+00, 1.500e+01,\n",
       "        0.000e+00],\n",
       "       ...,\n",
       "       [1.107e+03, 3.000e+00, 2.000e+00, ..., 5.000e+00, 9.000e+00,\n",
       "        0.000e+00],\n",
       "       [1.147e+03, 3.000e+00, 2.000e+00, ..., 6.000e+00, 2.000e+00,\n",
       "        0.000e+00],\n",
       "       [7.970e+02, 1.000e+01, 2.000e+00, ..., 6.000e+00, 7.000e+00,\n",
       "        0.000e+00]])"
      ]
     },
     "execution_count": 65,
     "metadata": {},
     "output_type": "execute_result"
    }
   ],
   "source": [
    "X_try = sales.loc[:, sales.columns != 'UNIT PRICE'].values\n",
    "X_try\n"
   ]
  },
  {
   "cell_type": "code",
   "execution_count": 66,
   "metadata": {},
   "outputs": [
    {
     "data": {
      "text/plain": [
       "array([8190, 7490, 7290, ..., 4190, 3990, 7490], dtype=int64)"
      ]
     },
     "execution_count": 66,
     "metadata": {},
     "output_type": "execute_result"
    }
   ],
   "source": [
    "y_try= sales.iloc[:,4].values\n",
    "y_try"
   ]
  },
  {
   "cell_type": "code",
   "execution_count": 67,
   "metadata": {},
   "outputs": [],
   "source": [
    "X_train, X_test, y_train, y_test = train_test_split(X_try, y_try, test_size = 0.2, random_state = 0)"
   ]
  },
  {
   "cell_type": "code",
   "execution_count": 68,
   "metadata": {},
   "outputs": [
    {
     "data": {
      "text/plain": [
       "LinearRegression(copy_X=True, fit_intercept=True, n_jobs=None, normalize=False)"
      ]
     },
     "execution_count": 68,
     "metadata": {},
     "output_type": "execute_result"
    }
   ],
   "source": [
    "lm = LinearRegression()\n",
    "lm.fit(X_train, y_train)"
   ]
  },
  {
   "cell_type": "code",
   "execution_count": 69,
   "metadata": {},
   "outputs": [
    {
     "name": "stdout",
     "output_type": "stream",
     "text": [
      "3432.7671786836327\n"
     ]
    }
   ],
   "source": [
    "print(lm.intercept_)"
   ]
  },
  {
   "cell_type": "code",
   "execution_count": 70,
   "metadata": {},
   "outputs": [],
   "source": [
    "predictions = lm.predict(X_test)"
   ]
  },
  {
   "cell_type": "code",
   "execution_count": 71,
   "metadata": {},
   "outputs": [
    {
     "name": "stdout",
     "output_type": "stream",
     "text": [
      "                            OLS Regression Results                            \n",
      "==============================================================================\n",
      "Dep. Variable:                      y   R-squared:                       0.814\n",
      "Model:                            OLS   Adj. R-squared:                  0.814\n",
      "Method:                 Least Squares   F-statistic:                     3113.\n",
      "Date:                Wed, 13 May 2020   Prob (F-statistic):               0.00\n",
      "Time:                        14:57:28   Log-Likelihood:                -91173.\n",
      "No. Observations:               11411   AIC:                         1.824e+05\n",
      "Df Residuals:                   11394   BIC:                         1.825e+05\n",
      "Df Model:                          16                                         \n",
      "Covariance Type:            nonrobust                                         \n",
      "==============================================================================\n",
      "                 coef    std err          t      P>|t|      [0.025      0.975]\n",
      "------------------------------------------------------------------------------\n",
      "const       3432.7672     93.122     36.863      0.000    3250.232    3615.302\n",
      "x1             0.3643      0.037      9.835      0.000       0.292       0.437\n",
      "x2           -11.1882      1.661     -6.736      0.000     -14.444      -7.932\n",
      "x3            54.7941     27.267      2.010      0.045       1.347     108.242\n",
      "x4         -1087.0499     11.476    -94.725      0.000   -1109.545   -1064.555\n",
      "x5             0.7363      0.006    115.259      0.000       0.724       0.749\n",
      "x6            87.0770      7.332     11.876      0.000      72.704     101.450\n",
      "x7          -105.9075      4.091    -25.888      0.000    -113.927     -97.888\n",
      "x8            -7.8713      6.679     -1.178      0.239     -20.964       5.221\n",
      "x9           138.0413      9.492     14.543      0.000     119.436     156.647\n",
      "x10            1.1385      1.646      0.692      0.489      -2.087       4.364\n",
      "x11          -26.0006     18.162     -1.432      0.152     -61.601       9.600\n",
      "x12         -491.6466     33.883    -14.510      0.000    -558.063    -425.230\n",
      "x13           -9.9880      1.268     -7.879      0.000     -12.473      -7.503\n",
      "x14            4.6305      4.980      0.930      0.352      -5.131      14.392\n",
      "x15           -3.7905      1.894     -2.001      0.045      -7.503      -0.078\n",
      "x16        -2244.9005     72.052    -31.157      0.000   -2386.135   -2103.666\n",
      "==============================================================================\n",
      "Omnibus:                     5943.313   Durbin-Watson:                   1.984\n",
      "Prob(Omnibus):                  0.000   Jarque-Bera (JB):          7675002.803\n",
      "Skew:                          -0.955   Prob(JB):                         0.00\n",
      "Kurtosis:                     130.038   Cond. No.                     4.72e+04\n",
      "==============================================================================\n",
      "\n",
      "Warnings:\n",
      "[1] Standard Errors assume that the covariance matrix of the errors is correctly specified.\n",
      "[2] The condition number is large, 4.72e+04. This might indicate that there are\n",
      "strong multicollinearity or other numerical problems.\n"
     ]
    }
   ],
   "source": [
    "X = sm.add_constant(X_train) # adding a constant\n",
    "\n",
    "model = sm.OLS(y_train, X).fit()\n",
    "prediction = model.predict(X) \n",
    "\n",
    "print_model = model.summary()\n",
    "print(print_model)"
   ]
  },
  {
   "cell_type": "code",
   "execution_count": 72,
   "metadata": {},
   "outputs": [],
   "source": [
    "sales=sales.drop(['STRAP TYPE','BRAND','GENDER','CASE COLOR','CASE SHAPE','ITEM DISC'], axis=1)\n"
   ]
  },
  {
   "cell_type": "code",
   "execution_count": 73,
   "metadata": {},
   "outputs": [
    {
     "name": "stdout",
     "output_type": "stream",
     "text": [
      "<class 'pandas.core.frame.DataFrame'>\n",
      "RangeIndex: 14264 entries, 0 to 14263\n",
      "Data columns (total 11 columns):\n",
      " #   Column            Non-Null Count  Dtype  \n",
      "---  ------            --------------  -----  \n",
      " 0   SKU               14264 non-null  int32  \n",
      " 1   LOCATION CODE     14264 non-null  int32  \n",
      " 2   NET SALES UNITS   14264 non-null  int64  \n",
      " 3   UNIT PRICE        14264 non-null  int64  \n",
      " 4   INVOICED AMOUNT   14264 non-null  float64\n",
      " 5   LINE_UP           14264 non-null  int32  \n",
      " 6   CATEGORY          14264 non-null  int32  \n",
      " 7   CASE MATERIAL     14264 non-null  int32  \n",
      " 8   DIAL TYPE         14264 non-null  int32  \n",
      " 9   DIAL COLOR        14264 non-null  int32  \n",
      " 10  STRAP COLOR       14264 non-null  int32  \n",
      "dtypes: float64(1), int32(8), int64(2)\n",
      "memory usage: 780.2 KB\n"
     ]
    }
   ],
   "source": [
    "sales.info()"
   ]
  },
  {
   "cell_type": "code",
   "execution_count": 74,
   "metadata": {},
   "outputs": [
    {
     "data": {
      "text/plain": [
       "Index(['SKU', 'LOCATION CODE', 'NET SALES UNITS', 'UNIT PRICE',\n",
       "       'INVOICED AMOUNT ', 'LINE_UP', 'CATEGORY', 'CASE MATERIAL', 'DIAL TYPE',\n",
       "       'DIAL COLOR', 'STRAP COLOR'],\n",
       "      dtype='object')"
      ]
     },
     "execution_count": 74,
     "metadata": {},
     "output_type": "execute_result"
    }
   ],
   "source": [
    "sales.columns"
   ]
  },
  {
   "cell_type": "code",
   "execution_count": 75,
   "metadata": {},
   "outputs": [
    {
     "data": {
      "text/plain": [
       "array([[2.770e+02, 5.000e+00, 1.000e+00, ..., 1.000e+00, 2.000e+00,\n",
       "        1.500e+01],\n",
       "       [2.210e+02, 1.300e+01, 1.000e+00, ..., 1.000e+00, 2.000e+00,\n",
       "        6.000e+00],\n",
       "       [2.860e+02, 3.000e+00, 1.000e+00, ..., 1.000e+00, 1.000e+00,\n",
       "        1.500e+01],\n",
       "       ...,\n",
       "       [1.107e+03, 3.000e+00, 1.000e+00, ..., 2.000e+00, 9.000e+00,\n",
       "        9.000e+00],\n",
       "       [1.147e+03, 3.000e+00, 1.000e+00, ..., 1.000e+00, 2.000e+00,\n",
       "        2.000e+00],\n",
       "       [7.970e+02, 1.000e+01, 1.000e+00, ..., 1.000e+00, 1.400e+01,\n",
       "        7.000e+00]])"
      ]
     },
     "execution_count": 75,
     "metadata": {},
     "output_type": "execute_result"
    }
   ],
   "source": [
    "X = sales.loc[:, sales.columns != 'UNIT PRICE'].values\n",
    "X"
   ]
  },
  {
   "cell_type": "code",
   "execution_count": 76,
   "metadata": {},
   "outputs": [
    {
     "data": {
      "text/plain": [
       "0         8190\n",
       "1         7490\n",
       "2         7290\n",
       "3         7590\n",
       "4        10990\n",
       "         ...  \n",
       "14259     4490\n",
       "14260     3790\n",
       "14261     4190\n",
       "14262     3990\n",
       "14263     7490\n",
       "Name: UNIT PRICE, Length: 14264, dtype: int64"
      ]
     },
     "execution_count": 76,
     "metadata": {},
     "output_type": "execute_result"
    }
   ],
   "source": [
    "y = sales.iloc[:,3]\n",
    "y"
   ]
  },
  {
   "cell_type": "code",
   "execution_count": 77,
   "metadata": {},
   "outputs": [],
   "source": [
    "X_train, X_test, y_train, y_test = train_test_split(X, y, test_size = 0.2, random_state = 0)"
   ]
  },
  {
   "cell_type": "code",
   "execution_count": 78,
   "metadata": {},
   "outputs": [
    {
     "name": "stdout",
     "output_type": "stream",
     "text": [
      "3541.2751618125526\n"
     ]
    }
   ],
   "source": [
    "lm = LinearRegression()\n",
    "lm.fit(X_train, y_train)\n",
    "print(lm.intercept_)"
   ]
  },
  {
   "cell_type": "code",
   "execution_count": 79,
   "metadata": {},
   "outputs": [],
   "source": [
    "predictions = lm.predict(X_test)"
   ]
  },
  {
   "cell_type": "code",
   "execution_count": 80,
   "metadata": {},
   "outputs": [
    {
     "name": "stdout",
     "output_type": "stream",
     "text": [
      "                            OLS Regression Results                            \n",
      "==============================================================================\n",
      "Dep. Variable:             UNIT PRICE   R-squared:                       0.798\n",
      "Model:                            OLS   Adj. R-squared:                  0.797\n",
      "Method:                 Least Squares   F-statistic:                     4493.\n",
      "Date:                Wed, 13 May 2020   Prob (F-statistic):               0.00\n",
      "Time:                        14:57:31   Log-Likelihood:                -91649.\n",
      "No. Observations:               11411   AIC:                         1.833e+05\n",
      "Df Residuals:                   11400   BIC:                         1.834e+05\n",
      "Df Model:                          10                                         \n",
      "Covariance Type:            nonrobust                                         \n",
      "==============================================================================\n",
      "                 coef    std err          t      P>|t|      [0.025      0.975]\n",
      "------------------------------------------------------------------------------\n",
      "const       3541.2752     38.341     92.363      0.000    3466.120    3616.430\n",
      "x1             0.3007      0.034      8.951      0.000       0.235       0.367\n",
      "x2           -11.4559      1.730     -6.620      0.000     -14.848      -8.064\n",
      "x3         -1191.2173     11.445   -104.085      0.000   -1213.651   -1168.784\n",
      "x4             0.8068      0.006    129.616      0.000       0.795       0.819\n",
      "x5          -100.9581      4.024    -25.089      0.000    -108.846     -93.070\n",
      "x6           -94.9680      3.808    -24.937      0.000    -102.433     -87.503\n",
      "x7           111.7632      6.835     16.353      0.000      98.366     125.160\n",
      "x8          -620.9833     30.107    -20.626      0.000    -679.998    -561.968\n",
      "x9            -5.4121      1.286     -4.209      0.000      -7.932      -2.892\n",
      "x10           -9.6533      1.559     -6.192      0.000     -12.709      -6.598\n",
      "==============================================================================\n",
      "Omnibus:                     6855.125   Durbin-Watson:                   1.985\n",
      "Prob(Omnibus):                  0.000   Jarque-Bera (JB):         11558316.830\n",
      "Skew:                          -1.316   Prob(JB):                         0.00\n",
      "Kurtosis:                     158.894   Cond. No.                     1.93e+04\n",
      "==============================================================================\n",
      "\n",
      "Warnings:\n",
      "[1] Standard Errors assume that the covariance matrix of the errors is correctly specified.\n",
      "[2] The condition number is large, 1.93e+04. This might indicate that there are\n",
      "strong multicollinearity or other numerical problems.\n"
     ]
    }
   ],
   "source": [
    "X = sm.add_constant(X_train) # adding a constant\n",
    "\n",
    "model = sm.OLS(y_train, X).fit()\n",
    "prediction = model.predict(X) \n",
    "\n",
    "print_model = model.summary()\n",
    "print(print_model)"
   ]
  },
  {
   "cell_type": "code",
   "execution_count": 81,
   "metadata": {},
   "outputs": [
    {
     "data": {
      "text/plain": [
       "<matplotlib.axes._subplots.AxesSubplot at 0x192e3ce0c48>"
      ]
     },
     "execution_count": 81,
     "metadata": {},
     "output_type": "execute_result"
    },
    {
     "data": {
      "image/png": "[encoded data removed]",
      "text/plain": [
       "<Figure size 432x288 with 1 Axes>"
      ]
     },
     "metadata": {
      "needs_background": "light"
     },
     "output_type": "display_data"
    }
   ],
   "source": [
    "sns.distplot((y_test-predictions),bins=50)"
   ]
  },
  {
   "cell_type": "code",
   "execution_count": 82,
   "metadata": {},
   "outputs": [],
   "source": [
    "from sklearn import metrics"
   ]
  },
  {
   "cell_type": "code",
   "execution_count": 83,
   "metadata": {},
   "outputs": [
    {
     "data": {
      "text/plain": [
       "15.279174741369339"
      ]
     },
     "execution_count": 83,
     "metadata": {},
     "output_type": "execute_result"
    }
   ],
   "source": [
    "def mean_absolute_percentage_error(y_test, predictions): \n",
    "    \"\"\"Calculates MAPE given y_test and y_pred\"\"\"\n",
    "    y_test, y_pred = np.array(y_test), np.array(predictions)\n",
    "    return np.mean(np.abs((y_test - y_pred) / y_test)) * 100\n",
    "mean_absolute_percentage_error(y_test,predictions)"
   ]
  },
  {
   "cell_type": "code",
   "execution_count": 84,
   "metadata": {},
   "outputs": [
    {
     "data": {
      "text/plain": [
       "'Accuracy: 84%'"
      ]
     },
     "execution_count": 84,
     "metadata": {},
     "output_type": "execute_result"
    }
   ],
   "source": [
    "accuracy = lm.score(X_test, y_test)\n",
    "\"Accuracy: {}%\".format(int(round(accuracy * 100)))"
   ]
  }
 ],
 "metadata": {
  "kernelspec": {
   "display_name": "Python 3",
   "language": "python",
   "name": "python3"
  },
  "language_info": {
   "codemirror_mode": {
    "name": "ipython",
    "version": 3
   },
   "file_extension": ".py",
   "mimetype": "text/x-python",
   "name": "python",
   "nbconvert_exporter": "python",
   "pygments_lexer": "ipython3",
   "version": "3.7.4"
  }
 },
 "nbformat": 4,
 "nbformat_minor": 2
}
